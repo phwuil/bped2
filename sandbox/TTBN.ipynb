{
 "cells": [
  {
   "cell_type": "code",
   "execution_count": 5,
   "metadata": {
    "collapsed": true,
    "pycharm": {
     "is_executing": false
    }
   },
   "outputs": [],
   "source": [
    "\n",
    "from  bped2.pedigree import Pedigree\n",
    "import bped2.view as pview\n",
    "import sandbox.doTTBN as ttbn\n",
    "import bped2.view as pview"
   ]
  },
  {
   "cell_type": "code",
   "execution_count": 2,
   "outputs": [],
   "source": [
    "ped = Pedigree()\n",
    "ped.load('../data/ped/famRh.ped')\n"
   ],
   "metadata": {
    "collapsed": false,
    "pycharm": {
     "name": "#%%\n",
     "is_executing": false
    }
   }
  },
  {
   "cell_type": "code",
   "execution_count": 3,
   "outputs": [
    {
     "data": {
      "text/plain": "<IPython.core.display.SVG object>",
      "image/svg+xml": "<svg height=\"260pt\" viewBox=\"0.00 0.00 970.55 260.00\" width=\"971pt\" xmlns=\"http://www.w3.org/2000/svg\" xmlns:xlink=\"http://www.w3.org/1999/xlink\">\n<g class=\"graph\" id=\"graph0\" transform=\"scale(1 1) rotate(0) translate(4 256)\">\n<title>G</title>\n<!-- matX1 -->\n<g class=\"node\" id=\"node1\">\n<title>matX1</title>\n<g id=\"a_node1\"><a xlink:title=\"(0) matX1\">\n<ellipse cx=\"533\" cy=\"-234\" fill=\"#404040\" rx=\"35.194\" ry=\"18\" stroke=\"#000000\"/>\n<text fill=\"#ffffff\" font-family=\"Times,serif\" font-size=\"14.00\" text-anchor=\"middle\" x=\"533\" y=\"-230.3\">matX1</text>\n</a>\n</g>\n</g>\n<!-- X1 -->\n<g class=\"node\" id=\"node3\">\n<title>X1</title>\n<g id=\"a_node3\"><a xlink:title=\"(2) X1\">\n<ellipse cx=\"165\" cy=\"-162\" fill=\"#404040\" rx=\"27\" ry=\"18\" stroke=\"#000000\"/>\n<text fill=\"#ffffff\" font-family=\"Times,serif\" font-size=\"14.00\" text-anchor=\"middle\" x=\"165\" y=\"-158.3\">X1</text>\n</a>\n</g>\n</g>\n<!-- matX1&#45;&gt;X1 -->\n<g class=\"edge\" id=\"edge41\">\n<title>matX1-&gt;X1</title>\n<g id=\"a_edge41\"><a xlink:title=\"(0, 2) : \">\n<path d=\"M497.7743,-231.7742C436.2415,-227.1209 305.7478,-213.836 201,-180 199.1049,-179.3878 197.1856,-178.6889 195.2709,-177.9301\" fill=\"none\" stroke=\"#4a4a4a\"/>\n<polygon fill=\"#4a4a4a\" points=\"196.4305,-174.6156 185.8701,-173.7615 193.5929,-181.0147 196.4305,-174.6156\" stroke=\"#4a4a4a\"/>\n</a>\n</g>\n</g>\n<!-- fatX3 -->\n<g class=\"node\" id=\"node8\">\n<title>fatX3</title>\n<g id=\"a_node8\"><a xlink:title=\"(7) fatX3\">\n<ellipse cx=\"622\" cy=\"-162\" fill=\"#404040\" rx=\"30.5947\" ry=\"18\" stroke=\"#000000\"/>\n<text fill=\"#ffffff\" font-family=\"Times,serif\" font-size=\"14.00\" text-anchor=\"middle\" x=\"622\" y=\"-158.3\">fatX3</text>\n</a>\n</g>\n</g>\n<!-- matX1&#45;&gt;fatX3 -->\n<g class=\"edge\" id=\"edge4\">\n<title>matX1-&gt;fatX3</title>\n<g id=\"a_edge4\"><a xlink:title=\"(0, 7) : \">\n<path d=\"M551.8746,-218.7307C564.6709,-208.3786 581.7556,-194.5573 595.8578,-183.1488\" fill=\"none\" stroke=\"#4a4a4a\"/>\n<polygon fill=\"#4a4a4a\" points=\"598.1881,-185.7655 603.7613,-176.7549 593.7855,-180.3233 598.1881,-185.7655\" stroke=\"#4a4a4a\"/>\n</a>\n</g>\n</g>\n<!-- fatX1 -->\n<g class=\"node\" id=\"node2\">\n<title>fatX1</title>\n<g id=\"a_node2\"><a xlink:title=\"(1) fatX1\">\n<ellipse cx=\"289\" cy=\"-234\" fill=\"#404040\" rx=\"30.5947\" ry=\"18\" stroke=\"#000000\"/>\n<text fill=\"#ffffff\" font-family=\"Times,serif\" font-size=\"14.00\" text-anchor=\"middle\" x=\"289\" y=\"-230.3\">fatX1</text>\n</a>\n</g>\n</g>\n<!-- fatX1&#45;&gt;X1 -->\n<g class=\"edge\" id=\"edge11\">\n<title>fatX1-&gt;X1</title>\n<g id=\"a_edge11\"><a xlink:title=\"(1, 2) : \">\n<path d=\"M267.1167,-221.2936C246.8289,-209.5136 216.4979,-191.902 194.1607,-178.932\" fill=\"none\" stroke=\"#4a4a4a\"/>\n<polygon fill=\"#4a4a4a\" points=\"195.8359,-175.8575 185.4305,-173.8629 192.3209,-181.911 195.8359,-175.8575\" stroke=\"#4a4a4a\"/>\n</a>\n</g>\n</g>\n<!-- fatX1&#45;&gt;fatX3 -->\n<g class=\"edge\" id=\"edge39\">\n<title>fatX1-&gt;fatX3</title>\n<g id=\"a_edge39\"><a xlink:title=\"(1, 7) : \">\n<path d=\"M317.6796,-227.799C377.5527,-214.8535 515.8717,-184.9467 583.4443,-170.3364\" fill=\"none\" stroke=\"#4a4a4a\"/>\n<polygon fill=\"#4a4a4a\" points=\"584.2368,-173.746 593.2713,-168.2116 582.7575,-166.9041 584.2368,-173.746\" stroke=\"#4a4a4a\"/>\n</a>\n</g>\n</g>\n<!-- matX2 -->\n<g class=\"node\" id=\"node4\">\n<title>matX2</title>\n<g id=\"a_node4\"><a xlink:title=\"(3) matX2\">\n<ellipse cx=\"781\" cy=\"-234\" fill=\"#404040\" rx=\"35.194\" ry=\"18\" stroke=\"#000000\"/>\n<text fill=\"#ffffff\" font-family=\"Times,serif\" font-size=\"14.00\" text-anchor=\"middle\" x=\"781\" y=\"-230.3\">matX2</text>\n</a>\n</g>\n</g>\n<!-- X2 -->\n<g class=\"node\" id=\"node6\">\n<title>X2</title>\n<g id=\"a_node6\"><a xlink:title=\"(5) X2\">\n<ellipse cx=\"699\" cy=\"-162\" fill=\"#404040\" rx=\"27\" ry=\"18\" stroke=\"#000000\"/>\n<text fill=\"#ffffff\" font-family=\"Times,serif\" font-size=\"14.00\" text-anchor=\"middle\" x=\"699\" y=\"-158.3\">X2</text>\n</a>\n</g>\n</g>\n<!-- matX2&#45;&gt;X2 -->\n<g class=\"edge\" id=\"edge31\">\n<title>matX2-&gt;X2</title>\n<g id=\"a_edge31\"><a xlink:title=\"(3, 5) : \">\n<path d=\"M763.2072,-218.3771C751.427,-208.0335 735.8355,-194.3434 722.9669,-183.0441\" fill=\"none\" stroke=\"#4a4a4a\"/>\n<polygon fill=\"#4a4a4a\" points=\"725.1883,-180.3369 715.3646,-176.3689 720.5697,-185.597 725.1883,-180.3369\" stroke=\"#4a4a4a\"/>\n</a>\n</g>\n</g>\n<!-- matX3 -->\n<g class=\"node\" id=\"node7\">\n<title>matX3</title>\n<g id=\"a_node7\"><a xlink:title=\"(6) matX3\">\n<ellipse cx=\"779\" cy=\"-162\" fill=\"#404040\" rx=\"35.194\" ry=\"18\" stroke=\"#000000\"/>\n<text fill=\"#ffffff\" font-family=\"Times,serif\" font-size=\"14.00\" text-anchor=\"middle\" x=\"779\" y=\"-158.3\">matX3</text>\n</a>\n</g>\n</g>\n<!-- matX2&#45;&gt;matX3 -->\n<g class=\"edge\" id=\"edge20\">\n<title>matX2-&gt;matX3</title>\n<g id=\"a_edge20\"><a xlink:title=\"(3, 6) : \">\n<path d=\"M780.4953,-215.8314C780.2814,-208.131 780.0271,-198.9743 779.7894,-190.4166\" fill=\"none\" stroke=\"#4a4a4a\"/>\n<polygon fill=\"#4a4a4a\" points=\"783.2879,-190.3122 779.5115,-180.4133 776.2906,-190.5066 783.2879,-190.3122\" stroke=\"#4a4a4a\"/>\n</a>\n</g>\n</g>\n<!-- fatX2 -->\n<g class=\"node\" id=\"node5\">\n<title>fatX2</title>\n<g id=\"a_node5\"><a xlink:title=\"(4) fatX2\">\n<ellipse cx=\"697\" cy=\"-234\" fill=\"#404040\" rx=\"30.5947\" ry=\"18\" stroke=\"#000000\"/>\n<text fill=\"#ffffff\" font-family=\"Times,serif\" font-size=\"14.00\" text-anchor=\"middle\" x=\"697\" y=\"-230.3\">fatX2</text>\n</a>\n</g>\n</g>\n<!-- fatX2&#45;&gt;X2 -->\n<g class=\"edge\" id=\"edge26\">\n<title>fatX2-&gt;X2</title>\n<g id=\"a_edge26\"><a xlink:title=\"(4, 5) : \">\n<path d=\"M697.5047,-215.8314C697.7186,-208.131 697.9729,-198.9743 698.2106,-190.4166\" fill=\"none\" stroke=\"#4a4a4a\"/>\n<polygon fill=\"#4a4a4a\" points=\"701.7094,-190.5066 698.4885,-180.4133 694.7121,-190.3122 701.7094,-190.5066\" stroke=\"#4a4a4a\"/>\n</a>\n</g>\n</g>\n<!-- fatX2&#45;&gt;matX3 -->\n<g class=\"edge\" id=\"edge35\">\n<title>fatX2-&gt;matX3</title>\n<g id=\"a_edge35\"><a xlink:title=\"(4, 6) : \">\n<path d=\"M714.3901,-218.7307C725.7583,-208.7488 740.8001,-195.5414 753.5097,-184.3818\" fill=\"none\" stroke=\"#4a4a4a\"/>\n<polygon fill=\"#4a4a4a\" points=\"755.863,-186.9732 761.0681,-177.7451 751.2444,-181.7131 755.863,-186.9732\" stroke=\"#4a4a4a\"/>\n</a>\n</g>\n</g>\n<!-- X3 -->\n<g class=\"node\" id=\"node9\">\n<title>X3</title>\n<g id=\"a_node9\"><a xlink:title=\"(8) X3\">\n<ellipse cx=\"856\" cy=\"-90\" fill=\"#404040\" rx=\"27\" ry=\"18\" stroke=\"#000000\"/>\n<text fill=\"#ffffff\" font-family=\"Times,serif\" font-size=\"14.00\" text-anchor=\"middle\" x=\"856\" y=\"-86.3\">X3</text>\n</a>\n</g>\n</g>\n<!-- matX3&#45;&gt;X3 -->\n<g class=\"edge\" id=\"edge34\">\n<title>matX3-&gt;X3</title>\n<g id=\"a_edge34\"><a xlink:title=\"(6, 8) : \">\n<path d=\"M796.0888,-146.0209C806.9196,-135.8934 821.0653,-122.6663 832.8915,-111.608\" fill=\"none\" stroke=\"#4a4a4a\"/>\n<polygon fill=\"#4a4a4a\" points=\"835.3561,-114.0951 840.2699,-104.7087 830.5751,-108.9821 835.3561,-114.0951\" stroke=\"#4a4a4a\"/>\n</a>\n</g>\n</g>\n<!-- fatX5 -->\n<g class=\"node\" id=\"node14\">\n<title>fatX5</title>\n<g id=\"a_node14\"><a xlink:title=\"(13) fatX5\">\n<ellipse cx=\"543\" cy=\"-90\" fill=\"#404040\" rx=\"30.5947\" ry=\"18\" stroke=\"#000000\"/>\n<text fill=\"#ffffff\" font-family=\"Times,serif\" font-size=\"14.00\" text-anchor=\"middle\" x=\"543\" y=\"-86.3\">fatX5</text>\n</a>\n</g>\n</g>\n<!-- matX3&#45;&gt;fatX5 -->\n<g class=\"edge\" id=\"edge38\">\n<title>matX3-&gt;fatX5</title>\n<g id=\"a_edge38\"><a xlink:title=\"(6, 13) : \">\n<path d=\"M752.2551,-150.2775C746.6163,-148.0273 740.6597,-145.8111 735,-144 668.4665,-122.7092 648.048,-130.7522 582,-108 580.0963,-107.3442 578.1604,-106.6266 576.2202,-105.8673\" fill=\"none\" stroke=\"#4a4a4a\"/>\n<polygon fill=\"#4a4a4a\" points=\"577.1874,-102.4769 566.6129,-101.8192 574.4692,-108.9276 577.1874,-102.4769\" stroke=\"#4a4a4a\"/>\n</a>\n</g>\n</g>\n<!-- fatX6 -->\n<g class=\"node\" id=\"node17\">\n<title>fatX6</title>\n<g id=\"a_node17\"><a xlink:title=\"(16) fatX6\">\n<ellipse cx=\"622\" cy=\"-90\" fill=\"#404040\" rx=\"30.5947\" ry=\"18\" stroke=\"#000000\"/>\n<text fill=\"#ffffff\" font-family=\"Times,serif\" font-size=\"14.00\" text-anchor=\"middle\" x=\"622\" y=\"-86.3\">fatX6</text>\n</a>\n</g>\n</g>\n<!-- matX3&#45;&gt;fatX6 -->\n<g class=\"edge\" id=\"edge24\">\n<title>matX3-&gt;fatX6</title>\n<g id=\"a_edge24\"><a xlink:title=\"(6, 16) : \">\n<path d=\"M752.7435,-150.0136C728.8232,-139.0868 692.5253,-122.4884 661,-108 659.2213,-107.1826 657.3974,-106.3435 655.5561,-105.4959\" fill=\"none\" stroke=\"#4a4a4a\"/>\n<polygon fill=\"#4a4a4a\" points=\"656.8821,-102.2532 646.3352,-101.2463 653.9523,-108.6106 656.8821,-102.2532\" stroke=\"#4a4a4a\"/>\n</a>\n</g>\n</g>\n<!-- fatX7 -->\n<g class=\"node\" id=\"node20\">\n<title>fatX7</title>\n<g id=\"a_node20\"><a xlink:title=\"(19) fatX7\">\n<ellipse cx=\"701\" cy=\"-90\" fill=\"#404040\" rx=\"30.5947\" ry=\"18\" stroke=\"#000000\"/>\n<text fill=\"#ffffff\" font-family=\"Times,serif\" font-size=\"14.00\" text-anchor=\"middle\" x=\"701\" y=\"-86.3\">fatX7</text>\n</a>\n</g>\n</g>\n<!-- matX3&#45;&gt;fatX7 -->\n<g class=\"edge\" id=\"edge32\">\n<title>matX3-&gt;fatX7</title>\n<g id=\"a_edge32\"><a xlink:title=\"(6, 19) : \">\n<path d=\"M761.6893,-146.0209C750.8651,-136.0293 736.7725,-123.0208 724.8923,-112.0544\" fill=\"none\" stroke=\"#4a4a4a\"/>\n<polygon fill=\"#4a4a4a\" points=\"727.1834,-109.4061 717.4614,-105.1951 722.4354,-114.5498 727.1834,-109.4061\" stroke=\"#4a4a4a\"/>\n</a>\n</g>\n</g>\n<!-- fatX8 -->\n<g class=\"node\" id=\"node23\">\n<title>fatX8</title>\n<g id=\"a_node23\"><a xlink:title=\"(22) fatX8\">\n<ellipse cx=\"780\" cy=\"-90\" fill=\"#404040\" rx=\"30.5947\" ry=\"18\" stroke=\"#000000\"/>\n<text fill=\"#ffffff\" font-family=\"Times,serif\" font-size=\"14.00\" text-anchor=\"middle\" x=\"780\" y=\"-86.3\">fatX8</text>\n</a>\n</g>\n</g>\n<!-- matX3&#45;&gt;fatX8 -->\n<g class=\"edge\" id=\"edge21\">\n<title>matX3-&gt;fatX8</title>\n<g id=\"a_edge21\"><a xlink:title=\"(6, 22) : \">\n<path d=\"M779.2523,-143.8314C779.3593,-136.131 779.4865,-126.9743 779.6053,-118.4166\" fill=\"none\" stroke=\"#4a4a4a\"/>\n<polygon fill=\"#4a4a4a\" points=\"783.1049,-118.4609 779.7443,-108.4133 776.1056,-118.3637 783.1049,-118.4609\" stroke=\"#4a4a4a\"/>\n</a>\n</g>\n</g>\n<!-- fatX9 -->\n<g class=\"node\" id=\"node26\">\n<title>fatX9</title>\n<g id=\"a_node26\"><a xlink:title=\"(25) fatX9\">\n<ellipse cx=\"932\" cy=\"-90\" fill=\"#404040\" rx=\"30.5947\" ry=\"18\" stroke=\"#000000\"/>\n<text fill=\"#ffffff\" font-family=\"Times,serif\" font-size=\"14.00\" text-anchor=\"middle\" x=\"932\" y=\"-86.3\">fatX9</text>\n</a>\n</g>\n</g>\n<!-- matX3&#45;&gt;fatX9 -->\n<g class=\"edge\" id=\"edge18\">\n<title>matX3-&gt;fatX9</title>\n<g id=\"a_edge18\"><a xlink:title=\"(6, 25) : \">\n<path d=\"M804.9544,-149.7862C830.8445,-137.6026 870.7152,-118.8399 898.8749,-105.5883\" fill=\"none\" stroke=\"#4a4a4a\"/>\n<polygon fill=\"#4a4a4a\" points=\"900.3807,-108.7479 907.9386,-101.323 897.4001,-102.4142 900.3807,-108.7479\" stroke=\"#4a4a4a\"/>\n</a>\n</g>\n</g>\n<!-- fatX3&#45;&gt;X3 -->\n<g class=\"edge\" id=\"edge40\">\n<title>fatX3-&gt;X3</title>\n<g id=\"a_edge40\"><a xlink:title=\"(7, 8) : \">\n<path d=\"M645.9859,-150.57C651.4988,-148.1964 657.391,-145.8559 663,-144 730.9647,-121.5114 752.6182,-132.1791 820,-108 821.8745,-107.3274 823.7778,-106.5814 825.6802,-105.7868\" fill=\"none\" stroke=\"#4a4a4a\"/>\n<polygon fill=\"#4a4a4a\" points=\"827.397,-108.8509 835.0483,-101.5224 824.4969,-102.4799 827.397,-108.8509\" stroke=\"#4a4a4a\"/>\n</a>\n</g>\n</g>\n<!-- fatX3&#45;&gt;fatX5 -->\n<g class=\"edge\" id=\"edge37\">\n<title>fatX3-&gt;fatX5</title>\n<g id=\"a_edge37\"><a xlink:title=\"(7, 13) : \">\n<path d=\"M605.2461,-146.7307C594.2486,-136.7075 579.6825,-123.4321 567.406,-112.2434\" fill=\"none\" stroke=\"#4a4a4a\"/>\n<polygon fill=\"#4a4a4a\" points=\"569.4783,-109.3966 559.7297,-105.2473 564.763,-114.5702 569.4783,-109.3966\" stroke=\"#4a4a4a\"/>\n</a>\n</g>\n</g>\n<!-- fatX3&#45;&gt;fatX6 -->\n<g class=\"edge\" id=\"edge8\">\n<title>fatX3-&gt;fatX6</title>\n<g id=\"a_edge8\"><a xlink:title=\"(7, 16) : \">\n<path d=\"M622,-143.8314C622,-136.131 622,-126.9743 622,-118.4166\" fill=\"none\" stroke=\"#4a4a4a\"/>\n<polygon fill=\"#4a4a4a\" points=\"625.5001,-118.4132 622,-108.4133 618.5001,-118.4133 625.5001,-118.4132\" stroke=\"#4a4a4a\"/>\n</a>\n</g>\n</g>\n<!-- fatX3&#45;&gt;fatX7 -->\n<g class=\"edge\" id=\"edge17\">\n<title>fatX3-&gt;fatX7</title>\n<g id=\"a_edge17\"><a xlink:title=\"(7, 19) : \">\n<path d=\"M638.7539,-146.7307C649.7514,-136.7075 664.3175,-123.4321 676.594,-112.2434\" fill=\"none\" stroke=\"#4a4a4a\"/>\n<polygon fill=\"#4a4a4a\" points=\"679.237,-114.5702 684.2703,-105.2473 674.5217,-109.3966 679.237,-114.5702\" stroke=\"#4a4a4a\"/>\n</a>\n</g>\n</g>\n<!-- fatX3&#45;&gt;fatX8 -->\n<g class=\"edge\" id=\"edge29\">\n<title>fatX3-&gt;fatX8</title>\n<g id=\"a_edge29\"><a xlink:title=\"(7, 22) : \">\n<path d=\"M646.6352,-150.8765C670.7152,-139.9906 708.4053,-122.9171 741,-108 742.78,-107.1854 744.605,-106.3486 746.447,-105.5027\" fill=\"none\" stroke=\"#4a4a4a\"/>\n<polygon fill=\"#4a4a4a\" points=\"748.0491,-108.6183 755.6703,-101.2583 745.1228,-102.2593 748.0491,-108.6183\" stroke=\"#4a4a4a\"/>\n</a>\n</g>\n</g>\n<!-- fatX3&#45;&gt;fatX9 -->\n<g class=\"edge\" id=\"edge5\">\n<title>fatX3-&gt;fatX9</title>\n<g id=\"a_edge5\"><a xlink:title=\"(7, 25) : \">\n<path d=\"M645.4606,-150.4658C651.1013,-148.0402 657.1807,-145.7037 663,-144 761.8773,-115.0519 793.2564,-137.4009 892,-108 894.4268,-107.2774 896.8979,-106.4389 899.361,-105.5267\" fill=\"none\" stroke=\"#4a4a4a\"/>\n<polygon fill=\"#4a4a4a\" points=\"900.7597,-108.7364 908.7098,-101.7331 898.1276,-102.2501 900.7597,-108.7364\" stroke=\"#4a4a4a\"/>\n</a>\n</g>\n</g>\n<!-- matX4 -->\n<g class=\"node\" id=\"node10\">\n<title>matX4</title>\n<g id=\"a_node10\"><a xlink:title=\"(9) matX4\">\n<ellipse cx=\"325\" cy=\"-162\" fill=\"#404040\" rx=\"35.194\" ry=\"18\" stroke=\"#000000\"/>\n<text fill=\"#ffffff\" font-family=\"Times,serif\" font-size=\"14.00\" text-anchor=\"middle\" x=\"325\" y=\"-158.3\">matX4</text>\n</a>\n</g>\n</g>\n<!-- X4 -->\n<g class=\"node\" id=\"node12\">\n<title>X4</title>\n<g id=\"a_node12\"><a xlink:title=\"(11) X4\">\n<ellipse cx=\"27\" cy=\"-90\" fill=\"#404040\" rx=\"27\" ry=\"18\" stroke=\"#000000\"/>\n<text fill=\"#ffffff\" font-family=\"Times,serif\" font-size=\"14.00\" text-anchor=\"middle\" x=\"27\" y=\"-86.3\">X4</text>\n</a>\n</g>\n</g>\n<!-- matX4&#45;&gt;X4 -->\n<g class=\"edge\" id=\"edge19\">\n<title>matX4-&gt;X4</title>\n<g id=\"a_edge19\"><a xlink:title=\"(9, 11) : \">\n<path d=\"M298.3447,-149.9802C292.6994,-147.7516 286.7175,-145.6193 281,-144 186.5152,-117.2403 156.4101,-138.2986 63,-108 61.1057,-107.3856 59.1869,-106.6848 57.2727,-105.9246\" fill=\"none\" stroke=\"#4a4a4a\"/>\n<polygon fill=\"#4a4a4a\" points=\"58.4331,-102.6105 47.8731,-101.7525 55.5932,-109.0085 58.4331,-102.6105\" stroke=\"#4a4a4a\"/>\n</a>\n</g>\n</g>\n<!-- matX5 -->\n<g class=\"node\" id=\"node13\">\n<title>matX5</title>\n<g id=\"a_node13\"><a xlink:title=\"(12) matX5\">\n<ellipse cx=\"107\" cy=\"-90\" fill=\"#404040\" rx=\"35.194\" ry=\"18\" stroke=\"#000000\"/>\n<text fill=\"#ffffff\" font-family=\"Times,serif\" font-size=\"14.00\" text-anchor=\"middle\" x=\"107\" y=\"-86.3\">matX5</text>\n</a>\n</g>\n</g>\n<!-- matX4&#45;&gt;matX5 -->\n<g class=\"edge\" id=\"edge42\">\n<title>matX4-&gt;matX5</title>\n<g id=\"a_edge42\"><a xlink:title=\"(9, 12) : \">\n<path d=\"M297.7283,-150.2597C292.2341,-148.0602 286.4671,-145.8679 281,-144 224.2678,-124.6162 207.7322,-127.3838 151,-108 148.6082,-107.1828 146.1589,-106.3035 143.7002,-105.3887\" fill=\"none\" stroke=\"#4a4a4a\"/>\n<polygon fill=\"#4a4a4a\" points=\"144.8609,-102.085 134.2717,-101.7403 142.3347,-108.6133 144.8609,-102.085\" stroke=\"#4a4a4a\"/>\n</a>\n</g>\n</g>\n<!-- matX6 -->\n<g class=\"node\" id=\"node16\">\n<title>matX6</title>\n<g id=\"a_node16\"><a xlink:title=\"(15) matX6\">\n<ellipse cx=\"195\" cy=\"-90\" fill=\"#404040\" rx=\"35.194\" ry=\"18\" stroke=\"#000000\"/>\n<text fill=\"#ffffff\" font-family=\"Times,serif\" font-size=\"14.00\" text-anchor=\"middle\" x=\"195\" y=\"-86.3\">matX6</text>\n</a>\n</g>\n</g>\n<!-- matX4&#45;&gt;matX6 -->\n<g class=\"edge\" id=\"edge12\">\n<title>matX4-&gt;matX6</title>\n<g id=\"a_edge12\"><a xlink:title=\"(9, 15) : \">\n<path d=\"M300.8527,-148.6261C280.3302,-137.2598 250.6706,-120.8329 227.9649,-108.2575\" fill=\"none\" stroke=\"#4a4a4a\"/>\n<polygon fill=\"#4a4a4a\" points=\"229.4617,-105.0856 219.018,-103.3023 226.0702,-111.2091 229.4617,-105.0856\" stroke=\"#4a4a4a\"/>\n</a>\n</g>\n</g>\n<!-- matX7 -->\n<g class=\"node\" id=\"node19\">\n<title>matX7</title>\n<g id=\"a_node19\"><a xlink:title=\"(18) matX7\">\n<ellipse cx=\"283\" cy=\"-90\" fill=\"#404040\" rx=\"35.194\" ry=\"18\" stroke=\"#000000\"/>\n<text fill=\"#ffffff\" font-family=\"Times,serif\" font-size=\"14.00\" text-anchor=\"middle\" x=\"283\" y=\"-86.3\">matX7</text>\n</a>\n</g>\n</g>\n<!-- matX4&#45;&gt;matX7 -->\n<g class=\"edge\" id=\"edge9\">\n<title>matX4-&gt;matX7</title>\n<g id=\"a_edge9\"><a xlink:title=\"(9, 18) : \">\n<path d=\"M314.833,-144.5708C309.8288,-135.9922 303.6945,-125.4762 298.151,-115.9732\" fill=\"none\" stroke=\"#4a4a4a\"/>\n<polygon fill=\"#4a4a4a\" points=\"301.1354,-114.1429 293.0734,-107.2687 295.0889,-117.6701 301.1354,-114.1429\" stroke=\"#4a4a4a\"/>\n</a>\n</g>\n</g>\n<!-- matX8 -->\n<g class=\"node\" id=\"node22\">\n<title>matX8</title>\n<g id=\"a_node22\"><a xlink:title=\"(21) matX8\">\n<ellipse cx=\"371\" cy=\"-90\" fill=\"#404040\" rx=\"35.194\" ry=\"18\" stroke=\"#000000\"/>\n<text fill=\"#ffffff\" font-family=\"Times,serif\" font-size=\"14.00\" text-anchor=\"middle\" x=\"371\" y=\"-86.3\">matX8</text>\n</a>\n</g>\n</g>\n<!-- matX4&#45;&gt;matX8 -->\n<g class=\"edge\" id=\"edge13\">\n<title>matX4-&gt;matX8</title>\n<g id=\"a_edge13\"><a xlink:title=\"(9, 21) : \">\n<path d=\"M336.1353,-144.5708C341.6161,-135.9922 348.3346,-125.4762 354.406,-115.9732\" fill=\"none\" stroke=\"#4a4a4a\"/>\n<polygon fill=\"#4a4a4a\" points=\"357.5327,-117.58 359.9672,-107.2687 351.6338,-113.8113 357.5327,-117.58\" stroke=\"#4a4a4a\"/>\n</a>\n</g>\n</g>\n<!-- matX9 -->\n<g class=\"node\" id=\"node25\">\n<title>matX9</title>\n<g id=\"a_node25\"><a xlink:title=\"(24) matX9\">\n<ellipse cx=\"459\" cy=\"-90\" fill=\"#404040\" rx=\"35.194\" ry=\"18\" stroke=\"#000000\"/>\n<text fill=\"#ffffff\" font-family=\"Times,serif\" font-size=\"14.00\" text-anchor=\"middle\" x=\"459\" y=\"-86.3\">matX9</text>\n</a>\n</g>\n</g>\n<!-- matX4&#45;&gt;matX9 -->\n<g class=\"edge\" id=\"edge22\">\n<title>matX4-&gt;matX9</title>\n<g id=\"a_edge22\"><a xlink:title=\"(9, 24) : \">\n<path d=\"M349.2664,-148.9613C370.5726,-137.5132 401.774,-120.7483 425.4647,-108.019\" fill=\"none\" stroke=\"#4a4a4a\"/>\n<polygon fill=\"#4a4a4a\" points=\"427.309,-111.0013 434.4613,-103.185 423.9958,-104.835 427.309,-111.0013\" stroke=\"#4a4a4a\"/>\n</a>\n</g>\n</g>\n<!-- fatX4 -->\n<g class=\"node\" id=\"node11\">\n<title>fatX4</title>\n<g id=\"a_node11\"><a xlink:title=\"(10) fatX4\">\n<ellipse cx=\"241\" cy=\"-162\" fill=\"#404040\" rx=\"30.5947\" ry=\"18\" stroke=\"#000000\"/>\n<text fill=\"#ffffff\" font-family=\"Times,serif\" font-size=\"14.00\" text-anchor=\"middle\" x=\"241\" y=\"-158.3\">fatX4</text>\n</a>\n</g>\n</g>\n<!-- fatX4&#45;&gt;X4 -->\n<g class=\"edge\" id=\"edge1\">\n<title>fatX4-&gt;X4</title>\n<g id=\"a_edge1\"><a xlink:title=\"(10, 11) : \">\n<path d=\"M217.1529,-150.4842C211.8988,-148.1687 206.3145,-145.8741 201,-144 141.2219,-122.9203 122.3358,-130.2945 63,-108 61.1358,-107.2995 59.2404,-106.5319 57.344,-105.7209\" fill=\"none\" stroke=\"#4a4a4a\"/>\n<polygon fill=\"#4a4a4a\" points=\"58.5391,-102.4179 47.9921,-101.4123 55.61,-108.7756 58.5391,-102.4179\" stroke=\"#4a4a4a\"/>\n</a>\n</g>\n</g>\n<!-- fatX4&#45;&gt;matX5 -->\n<g class=\"edge\" id=\"edge14\">\n<title>fatX4-&gt;matX5</title>\n<g id=\"a_edge14\"><a xlink:title=\"(10, 12) : \">\n<path d=\"M218.2687,-149.7862C196.9488,-138.3307 164.8043,-121.059 140.5384,-108.0206\" fill=\"none\" stroke=\"#4a4a4a\"/>\n<polygon fill=\"#4a4a4a\" points=\"142.1286,-104.9019 131.663,-103.2518 138.8153,-111.0681 142.1286,-104.9019\" stroke=\"#4a4a4a\"/>\n</a>\n</g>\n</g>\n<!-- fatX4&#45;&gt;matX6 -->\n<g class=\"edge\" id=\"edge6\">\n<title>fatX4-&gt;matX6</title>\n<g id=\"a_edge6\"><a xlink:title=\"(10, 15) : \">\n<path d=\"M230.0986,-144.937C224.5659,-136.277 217.7273,-125.5731 211.5605,-115.9207\" fill=\"none\" stroke=\"#4a4a4a\"/>\n<polygon fill=\"#4a4a4a\" points=\"214.476,-113.9833 206.1427,-107.4407 208.5771,-117.752 214.476,-113.9833\" stroke=\"#4a4a4a\"/>\n</a>\n</g>\n</g>\n<!-- fatX4&#45;&gt;matX7 -->\n<g class=\"edge\" id=\"edge15\">\n<title>fatX4-&gt;matX7</title>\n<g id=\"a_edge15\"><a xlink:title=\"(10, 18) : \">\n<path d=\"M250.9534,-144.937C255.9535,-136.3654 262.1217,-125.7914 267.707,-116.2165\" fill=\"none\" stroke=\"#4a4a4a\"/>\n<polygon fill=\"#4a4a4a\" points=\"270.8107,-117.842 272.8263,-107.4407 264.7643,-114.3149 270.8107,-117.842\" stroke=\"#4a4a4a\"/>\n</a>\n</g>\n</g>\n<!-- fatX4&#45;&gt;matX8 -->\n<g class=\"edge\" id=\"edge7\">\n<title>fatX4-&gt;matX8</title>\n<g id=\"a_edge7\"><a xlink:title=\"(10, 21) : \">\n<path d=\"M263.3478,-149.6228C283.856,-138.2643 314.5064,-121.2888 337.8634,-108.3526\" fill=\"none\" stroke=\"#4a4a4a\"/>\n<polygon fill=\"#4a4a4a\" points=\"339.6864,-111.3439 346.7386,-103.4371 336.2949,-105.2204 339.6864,-111.3439\" stroke=\"#4a4a4a\"/>\n</a>\n</g>\n</g>\n<!-- fatX4&#45;&gt;matX9 -->\n<g class=\"edge\" id=\"edge28\">\n<title>fatX4-&gt;matX9</title>\n<g id=\"a_edge28\"><a xlink:title=\"(10, 24) : \">\n<path d=\"M264.8575,-150.5135C270.1109,-148.1962 275.6924,-145.8934 281,-144 339.0824,-123.2804 356.5685,-127.7137 415,-108 417.395,-107.192 419.8466,-106.3197 422.3071,-105.4101\" fill=\"none\" stroke=\"#4a4a4a\"/>\n<polygon fill=\"#4a4a4a\" points=\"423.668,-108.6366 431.7397,-101.7736 421.15,-102.1051 423.668,-108.6366\" stroke=\"#4a4a4a\"/>\n</a>\n</g>\n</g>\n<!-- X5 -->\n<g class=\"node\" id=\"node15\">\n<title>X5</title>\n<g id=\"a_node15\"><a xlink:title=\"(14) X5\">\n<ellipse cx=\"123\" cy=\"-18\" fill=\"#404040\" rx=\"27\" ry=\"18\" stroke=\"#000000\"/>\n<text fill=\"#ffffff\" font-family=\"Times,serif\" font-size=\"14.00\" text-anchor=\"middle\" x=\"123\" y=\"-14.3\">X5</text>\n</a>\n</g>\n</g>\n<!-- matX5&#45;&gt;X5 -->\n<g class=\"edge\" id=\"edge25\">\n<title>matX5-&gt;X5</title>\n<g id=\"a_edge25\"><a xlink:title=\"(12, 14) : \">\n<path d=\"M111.0375,-71.8314C112.7941,-63.9266 114.8917,-54.4872 116.8363,-45.7365\" fill=\"none\" stroke=\"#4a4a4a\"/>\n<polygon fill=\"#4a4a4a\" points=\"120.2665,-46.4346 119.0192,-35.9134 113.4332,-44.916 120.2665,-46.4346\" stroke=\"#4a4a4a\"/>\n</a>\n</g>\n</g>\n<!-- fatX5&#45;&gt;X5 -->\n<g class=\"edge\" id=\"edge36\">\n<title>fatX5-&gt;X5</title>\n<g id=\"a_edge36\"><a xlink:title=\"(13, 14) : \">\n<path d=\"M519.7676,-78.0638C514.3804,-75.7164 508.5858,-73.5147 503,-72 358.0466,-32.6941 312.6105,-72.7972 167,-36 163.0616,-35.0047 159.0112,-33.7268 155.0374,-32.3117\" fill=\"none\" stroke=\"#4a4a4a\"/>\n<polygon fill=\"#4a4a4a\" points=\"156.0141,-28.9369 145.4248,-28.5944 153.4893,-35.4657 156.0141,-28.9369\" stroke=\"#4a4a4a\"/>\n</a>\n</g>\n</g>\n<!-- X6 -->\n<g class=\"node\" id=\"node18\">\n<title>X6</title>\n<g id=\"a_node18\"><a xlink:title=\"(17) X6\">\n<ellipse cx=\"203\" cy=\"-18\" fill=\"#404040\" rx=\"27\" ry=\"18\" stroke=\"#000000\"/>\n<text fill=\"#ffffff\" font-family=\"Times,serif\" font-size=\"14.00\" text-anchor=\"middle\" x=\"203\" y=\"-14.3\">X6</text>\n</a>\n</g>\n</g>\n<!-- matX6&#45;&gt;X6 -->\n<g class=\"edge\" id=\"edge33\">\n<title>matX6-&gt;X6</title>\n<g id=\"a_edge33\"><a xlink:title=\"(15, 17) : \">\n<path d=\"M197.0187,-71.8314C197.8743,-64.131 198.8917,-54.9743 199.8426,-46.4166\" fill=\"none\" stroke=\"#4a4a4a\"/>\n<polygon fill=\"#4a4a4a\" points=\"203.3283,-46.7386 200.9541,-36.4133 196.3711,-45.9656 203.3283,-46.7386\" stroke=\"#4a4a4a\"/>\n</a>\n</g>\n</g>\n<!-- fatX6&#45;&gt;X6 -->\n<g class=\"edge\" id=\"edge10\">\n<title>fatX6-&gt;X6</title>\n<g id=\"a_edge10\"><a xlink:title=\"(16, 17) : \">\n<path d=\"M598.9546,-77.8814C593.819,-75.6034 588.3171,-73.4765 583,-72 441.6937,-32.761 398.0774,-68.1874 255,-36 248.7,-34.5827 242.1016,-32.659 235.8017,-30.595\" fill=\"none\" stroke=\"#4a4a4a\"/>\n<polygon fill=\"#4a4a4a\" points=\"236.8279,-27.2466 226.2332,-27.2889 234.5418,-33.8628 236.8279,-27.2466\" stroke=\"#4a4a4a\"/>\n</a>\n</g>\n</g>\n<!-- X7 -->\n<g class=\"node\" id=\"node21\">\n<title>X7</title>\n<g id=\"a_node21\"><a xlink:title=\"(20) X7\">\n<ellipse cx=\"291\" cy=\"-18\" fill=\"#404040\" rx=\"27\" ry=\"18\" stroke=\"#000000\"/>\n<text fill=\"#ffffff\" font-family=\"Times,serif\" font-size=\"14.00\" text-anchor=\"middle\" x=\"291\" y=\"-14.3\">X7</text>\n</a>\n</g>\n</g>\n<!-- matX7&#45;&gt;X7 -->\n<g class=\"edge\" id=\"edge23\">\n<title>matX7-&gt;X7</title>\n<g id=\"a_edge23\"><a xlink:title=\"(18, 20) : \">\n<path d=\"M285.0187,-71.8314C285.8743,-64.131 286.8917,-54.9743 287.8426,-46.4166\" fill=\"none\" stroke=\"#4a4a4a\"/>\n<polygon fill=\"#4a4a4a\" points=\"291.3283,-46.7386 288.9541,-36.4133 284.3711,-45.9656 291.3283,-46.7386\" stroke=\"#4a4a4a\"/>\n</a>\n</g>\n</g>\n<!-- fatX7&#45;&gt;X7 -->\n<g class=\"edge\" id=\"edge30\">\n<title>fatX7-&gt;X7</title>\n<g id=\"a_edge30\"><a xlink:title=\"(19, 20) : \">\n<path d=\"M677.9511,-77.8937C672.8158,-75.615 667.3149,-73.4846 662,-72 524.5828,-33.6145 482.1508,-67.5278 343,-36 336.7022,-34.5731 330.1048,-32.6448 323.8052,-30.5794\" fill=\"none\" stroke=\"#4a4a4a\"/>\n<polygon fill=\"#4a4a4a\" points=\"324.8315,-27.231 314.2367,-27.2732 322.5453,-33.8472 324.8315,-27.231\" stroke=\"#4a4a4a\"/>\n</a>\n</g>\n</g>\n<!-- X8 -->\n<g class=\"node\" id=\"node24\">\n<title>X8</title>\n<g id=\"a_node24\"><a xlink:title=\"(23) X8\">\n<ellipse cx=\"379\" cy=\"-18\" fill=\"#404040\" rx=\"27\" ry=\"18\" stroke=\"#000000\"/>\n<text fill=\"#ffffff\" font-family=\"Times,serif\" font-size=\"14.00\" text-anchor=\"middle\" x=\"379\" y=\"-14.3\">X8</text>\n</a>\n</g>\n</g>\n<!-- matX8&#45;&gt;X8 -->\n<g class=\"edge\" id=\"edge27\">\n<title>matX8-&gt;X8</title>\n<g id=\"a_edge27\"><a xlink:title=\"(21, 23) : \">\n<path d=\"M373.0187,-71.8314C373.8743,-64.131 374.8917,-54.9743 375.8426,-46.4166\" fill=\"none\" stroke=\"#4a4a4a\"/>\n<polygon fill=\"#4a4a4a\" points=\"379.3283,-46.7386 376.9541,-36.4133 372.3711,-45.9656 379.3283,-46.7386\" stroke=\"#4a4a4a\"/>\n</a>\n</g>\n</g>\n<!-- fatX8&#45;&gt;X8 -->\n<g class=\"edge\" id=\"edge2\">\n<title>fatX8-&gt;X8</title>\n<g id=\"a_edge2\"><a xlink:title=\"(22, 23) : \">\n<path d=\"M756.9097,-78.0372C751.7769,-75.7495 746.2875,-73.5793 741,-72 625.7028,-37.5633 482.8987,-24.5255 416.3722,-20.0716\" fill=\"none\" stroke=\"#4a4a4a\"/>\n<polygon fill=\"#4a4a4a\" points=\"416.5698,-16.5772 406.3659,-19.4285 416.1208,-23.5628 416.5698,-16.5772\" stroke=\"#4a4a4a\"/>\n</a>\n</g>\n</g>\n<!-- X9 -->\n<g class=\"node\" id=\"node27\">\n<title>X9</title>\n<g id=\"a_node27\"><a xlink:title=\"(26) X9\">\n<ellipse cx=\"695\" cy=\"-18\" fill=\"#404040\" rx=\"27\" ry=\"18\" stroke=\"#000000\"/>\n<text fill=\"#ffffff\" font-family=\"Times,serif\" font-size=\"14.00\" text-anchor=\"middle\" x=\"695\" y=\"-14.3\">X9</text>\n</a>\n</g>\n</g>\n<!-- matX9&#45;&gt;X9 -->\n<g class=\"edge\" id=\"edge3\">\n<title>matX9-&gt;X9</title>\n<g id=\"a_edge3\"><a xlink:title=\"(24, 26) : \">\n<path d=\"M486.2776,-78.2771C491.7713,-76.0761 497.5367,-73.8789 503,-72 556.9545,-53.4443 620.9967,-36.4038 659.7878,-26.6154\" fill=\"none\" stroke=\"#4a4a4a\"/>\n<polygon fill=\"#4a4a4a\" points=\"660.7067,-29.9935 669.557,-24.1692 659.0062,-23.2031 660.7067,-29.9935\" stroke=\"#4a4a4a\"/>\n</a>\n</g>\n</g>\n<!-- fatX9&#45;&gt;X9 -->\n<g class=\"edge\" id=\"edge16\">\n<title>fatX9-&gt;X9</title>\n<g id=\"a_edge16\"><a xlink:title=\"(25, 26) : \">\n<path d=\"M908.1352,-78.5339C902.8822,-76.2153 897.3028,-73.9069 892,-72 836.7423,-52.1296 770.5481,-35.372 730.6837,-26.0137\" fill=\"none\" stroke=\"#4a4a4a\"/>\n<polygon fill=\"#4a4a4a\" points=\"731.429,-22.5937 720.8964,-23.7409 729.8455,-29.4123 731.429,-22.5937\" stroke=\"#4a4a4a\"/>\n</a>\n</g>\n</g>\n</g>\n</svg>"
     },
     "metadata": {},
     "output_type": "display_data"
    }
   ],
   "source": [
    "f = 0.05\n",
    "bn = pview.ped_to_bn_compact(ped,0.05)\n",
    "pview.gnb.showBN(bn, size=100)"
   ],
   "metadata": {
    "collapsed": false,
    "pycharm": {
     "name": "#%%\n",
     "is_executing": false
    }
   }
  },
  {
   "cell_type": "code",
   "execution_count": 9,
   "outputs": [
    {
     "data": {
      "text/plain": "0.9025000000000001"
     },
     "metadata": {},
     "output_type": "execute_result",
     "execution_count": 9
    }
   ],
   "source": [
    "ie = pview.gum.LazyPropagation(bn)\n",
    "ie.posterior('X1')[0]"
   ],
   "metadata": {
    "collapsed": false,
    "pycharm": {
     "name": "#%%\n",
     "is_executing": false
    }
   }
  },
  {
   "cell_type": "code",
   "execution_count": 8,
   "outputs": [
    {
     "name": "stdout",
     "text": [
      "<TenGeRine.TensorTrainInference.ShaferShenoyTensorTrain.ShaferShenoyTensorTrain.ShaferShenoyTensorTrain object at 0x7f49ee8ec160>\n"
     ],
     "output_type": "stream"
    }
   ],
   "source": [
    "test = ttbn.ttgum.ShaferShenoyTensorTrain(bn,precision=1e-4)\n",
    "print(test)"
   ],
   "metadata": {
    "collapsed": false,
    "pycharm": {
     "name": "#%%\n",
     "is_executing": false
    }
   }
  },
  {
   "cell_type": "code",
   "execution_count": 13,
   "outputs": [
    {
     "name": "stdout",
     "text": [
      "Initialisation\n",
      "--------------\n",
      "=> ok : durée 0.43\n",
      "\n",
      "Phase de collecte\n",
      "-----------------\n",
      "=> ok : durée 0.30\n",
      "\n",
      "Phase de distribution\n",
      "---------------------\n",
      "=> ok : durée 0.76\n",
      "\n",
      "Mise à jour des potentiels\n",
      "--------------------------\n",
      "=> ok : durée 0.24\n",
      "\n",
      "Calcul des marginales\n",
      "---------------------\n",
      "=> ok : durée 0.11\n",
      "\n"
     ],
     "output_type": "stream"
    }
   ],
   "source": [
    "ie = ttbn.ttgum.ShaferShenoyTensorTrain(bn,precision=1e-4)\n",
    "marginalesSSTT, tempsSSTT, nb_param_SSTT = ie.makeInference()"
   ],
   "metadata": {
    "collapsed": false,
    "pycharm": {
     "name": "#%%\n",
     "is_executing": false
    }
   }
  },
  {
   "cell_type": "code",
   "execution_count": 14,
   "outputs": [
    {
     "data": {
      "text/plain": "array([0.9025, 0.0475, 0.0475, 0.0025])"
     },
     "metadata": {},
     "output_type": "execute_result",
     "execution_count": 14
    }
   ],
   "source": [
    "marginalesSSTT['X1'][0]"
   ],
   "metadata": {
    "collapsed": false,
    "pycharm": {
     "name": "#%%\n",
     "is_executing": false
    }
   }
  },
  {
   "cell_type": "code",
   "execution_count": 15,
   "outputs": [
    {
     "name": "stdout",
     "text": [
      "Initialisation\n",
      "--------------\n",
      "=> ok : durée 16.42\n",
      "\n",
      "Phase de collecte\n",
      "-----------------\n",
      "=> ok : durée 10.26\n",
      "\n",
      "Phase de distribution\n",
      "---------------------\n",
      "=> ok : durée 33.30\n",
      "\n",
      "Mise à jour des potentiels\n",
      "--------------------------\n",
      "=> ok : durée 16.63\n",
      "\n",
      "Calcul des marginales\n",
      "---------------------\n",
      "=> ok : durée 3.68\n",
      "\n"
     ],
     "output_type": "stream"
    },
    {
     "data": {
      "text/plain": "96.82548705500001"
     },
     "metadata": {},
     "output_type": "execute_result",
     "execution_count": 15
    }
   ],
   "source": [
    "import random\n",
    "\n",
    "p = 400\n",
    "g = 4\n",
    "nbChild = random.randint(6,12)\n",
    "cl = 3\n",
    "nb = 1\n",
    "ped = Pedigree()\n",
    "ped.gen_ped(nb, p, g, nbChild, cl, 0.03)\n",
    "test_bn = pview.ped_to_bn_compact(ped,f)\n",
    "pview.save_bn(test_bn,f'../bn_compact_{p}_{g}_{nbChild}_{cl}_G{nb}')\n",
    "ttbn.doTTBN(f'../bn_compact_{p}_{g}_{nbChild}_{cl}_G{nb}.bif')\n",
    "\n"
   ],
   "metadata": {
    "collapsed": false,
    "pycharm": {
     "name": "#%%\n",
     "is_executing": false
    }
   }
  },
  {
   "cell_type": "code",
   "execution_count": null,
   "outputs": [],
   "source": [
    " \n"
   ],
   "metadata": {
    "collapsed": false,
    "pycharm": {
     "name": "#%%\n"
    }
   }
  }
 ],
 "metadata": {
  "kernelspec": {
   "name": "pycharm-483525a4",
   "language": "python",
   "display_name": "PyCharm (bped2)"
  },
  "language_info": {
   "codemirror_mode": {
    "name": "ipython",
    "version": 2
   },
   "file_extension": ".py",
   "mimetype": "text/x-python",
   "name": "python",
   "nbconvert_exporter": "python",
   "pygments_lexer": "ipython2",
   "version": "2.7.6"
  },
  "pycharm": {
   "stem_cell": {
    "cell_type": "raw",
    "source": [],
    "metadata": {
     "collapsed": false
    }
   }
  }
 },
 "nbformat": 4,
 "nbformat_minor": 0
}