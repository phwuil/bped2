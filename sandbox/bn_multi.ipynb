{
 "cells": [
  {
   "cell_type": "code",
   "execution_count": 1,
   "metadata": {
    "collapsed": true,
    "pycharm": {
     "is_executing": false
    }
   },
   "outputs": [],
   "source": [
    "from  bped2.pedigree import Pedigree\n",
    "import bped2.view as pview\n"
   ]
  },
  {
   "cell_type": "code",
   "execution_count": 2,
   "outputs": [
    {
     "data": {
      "text/plain": "<bped2.pedigree.Pedigree at 0x7f498a0d7c50>"
     },
     "metadata": {},
     "output_type": "execute_result",
     "execution_count": 2
    }
   ],
   "source": [
    "ped = Pedigree()\n",
    "ped.gen_ped('multi',3,2,4,2)\n",
    "ped"
   ],
   "metadata": {
    "collapsed": false,
    "pycharm": {
     "name": "#%%\n",
     "is_executing": false
    }
   }
  },
  {
   "cell_type": "code",
   "execution_count": 3,
   "outputs": [
    {
     "data": {
      "text/plain": "<IPython.core.display.SVG object>",
      "image/svg+xml": "<svg height=\"332pt\" viewBox=\"0.00 0.00 1074.84 332.00\" width=\"1075pt\" xmlns=\"http://www.w3.org/2000/svg\" xmlns:xlink=\"http://www.w3.org/1999/xlink\">\n<g class=\"graph\" id=\"graph0\" transform=\"scale(1 1) rotate(0) translate(4 328)\">\n<title>G</title>\n<!-- matX1_1 -->\n<g class=\"node\" id=\"node1\">\n<title>matX1_1</title>\n<g id=\"a_node1\"><a xlink:title=\"(0) matX1_1\">\n<ellipse cx=\"141.6465\" cy=\"-306\" fill=\"#404040\" rx=\"44.393\" ry=\"18\" stroke=\"#000000\"/>\n<text fill=\"#ffffff\" font-family=\"Times,serif\" font-size=\"14.00\" text-anchor=\"middle\" x=\"141.6465\" y=\"-302.3\">matX1_1</text>\n</a>\n</g>\n</g>\n<!-- X1_1 -->\n<g class=\"node\" id=\"node3\">\n<title>X1_1</title>\n<g id=\"a_node3\"><a xlink:title=\"(2) X1_1\">\n<ellipse cx=\"46.6465\" cy=\"-234\" fill=\"#404040\" rx=\"30.5947\" ry=\"18\" stroke=\"#000000\"/>\n<text fill=\"#ffffff\" font-family=\"Times,serif\" font-size=\"14.00\" text-anchor=\"middle\" x=\"46.6465\" y=\"-230.3\">X1_1</text>\n</a>\n</g>\n</g>\n<!-- matX1_1&#45;&gt;X1_1 -->\n<g class=\"edge\" id=\"edge40\">\n<title>matX1_1-&gt;X1_1</title>\n<g id=\"a_edge40\"><a xlink:title=\"(0, 2) : \">\n<path d=\"M120.5629,-290.0209C106.7629,-279.5619 88.6011,-265.7972 73.7339,-254.5294\" fill=\"none\" stroke=\"#4a4a4a\"/>\n<polygon fill=\"#4a4a4a\" points=\"75.5028,-251.4784 65.419,-248.2276 71.2746,-257.0572 75.5028,-251.4784\" stroke=\"#4a4a4a\"/>\n</a>\n</g>\n</g>\n<!-- fatX2_1 -->\n<g class=\"node\" id=\"node5\">\n<title>fatX2_1</title>\n<g id=\"a_node5\"><a xlink:title=\"(4) fatX2_1\">\n<ellipse cx=\"141.6465\" cy=\"-234\" fill=\"#404040\" rx=\"39.7935\" ry=\"18\" stroke=\"#000000\"/>\n<text fill=\"#ffffff\" font-family=\"Times,serif\" font-size=\"14.00\" text-anchor=\"middle\" x=\"141.6465\" y=\"-230.3\">fatX2_1</text>\n</a>\n</g>\n</g>\n<!-- matX1_1&#45;&gt;fatX2_1 -->\n<g class=\"edge\" id=\"edge17\">\n<title>matX1_1-&gt;fatX2_1</title>\n<g id=\"a_edge17\"><a xlink:title=\"(0, 4) : \">\n<path d=\"M141.6465,-287.8314C141.6465,-280.131 141.6465,-270.9743 141.6465,-262.4166\" fill=\"none\" stroke=\"#4a4a4a\"/>\n<polygon fill=\"#4a4a4a\" points=\"145.1466,-262.4132 141.6465,-252.4133 138.1466,-262.4133 145.1466,-262.4132\" stroke=\"#4a4a4a\"/>\n</a>\n</g>\n</g>\n<!-- fatX1_1 -->\n<g class=\"node\" id=\"node2\">\n<title>fatX1_1</title>\n<g id=\"a_node2\"><a xlink:title=\"(1) fatX1_1\">\n<ellipse cx=\"39.6465\" cy=\"-306\" fill=\"#404040\" rx=\"39.7935\" ry=\"18\" stroke=\"#000000\"/>\n<text fill=\"#ffffff\" font-family=\"Times,serif\" font-size=\"14.00\" text-anchor=\"middle\" x=\"39.6465\" y=\"-302.3\">fatX1_1</text>\n</a>\n</g>\n</g>\n<!-- fatX1_1&#45;&gt;X1_1 -->\n<g class=\"edge\" id=\"edge13\">\n<title>fatX1_1-&gt;X1_1</title>\n<g id=\"a_edge13\"><a xlink:title=\"(1, 2) : \">\n<path d=\"M41.4129,-287.8314C42.1615,-280.131 43.0518,-270.9743 43.8838,-262.4166\" fill=\"none\" stroke=\"#4a4a4a\"/>\n<polygon fill=\"#4a4a4a\" points=\"47.3721,-262.7051 44.8563,-252.4133 40.405,-262.0276 47.3721,-262.7051\" stroke=\"#4a4a4a\"/>\n</a>\n</g>\n</g>\n<!-- fatX1_1&#45;&gt;fatX2_1 -->\n<g class=\"edge\" id=\"edge26\">\n<title>fatX1_1-&gt;fatX2_1</title>\n<g id=\"a_edge26\"><a xlink:title=\"(1, 4) : \">\n<path d=\"M61.2781,-290.7307C75.8832,-280.4212 95.3627,-266.6709 111.4862,-255.2896\" fill=\"none\" stroke=\"#4a4a4a\"/>\n<polygon fill=\"#4a4a4a\" points=\"113.8948,-257.8736 120.0461,-249.2473 109.858,-252.1548 113.8948,-257.8736\" stroke=\"#4a4a4a\"/>\n</a>\n</g>\n</g>\n<!-- matX2_1 -->\n<g class=\"node\" id=\"node4\">\n<title>matX2_1</title>\n<g id=\"a_node4\"><a xlink:title=\"(3) matX2_1\">\n<ellipse cx=\"474.6465\" cy=\"-234\" fill=\"#404040\" rx=\"44.393\" ry=\"18\" stroke=\"#000000\"/>\n<text fill=\"#ffffff\" font-family=\"Times,serif\" font-size=\"14.00\" text-anchor=\"middle\" x=\"474.6465\" y=\"-230.3\">matX2_1</text>\n</a>\n</g>\n</g>\n<!-- X2_1 -->\n<g class=\"node\" id=\"node6\">\n<title>X2_1</title>\n<g id=\"a_node6\"><a xlink:title=\"(5) X2_1\">\n<ellipse cx=\"141.6465\" cy=\"-162\" fill=\"#404040\" rx=\"30.5947\" ry=\"18\" stroke=\"#000000\"/>\n<text fill=\"#ffffff\" font-family=\"Times,serif\" font-size=\"14.00\" text-anchor=\"middle\" x=\"141.6465\" y=\"-158.3\">X2_1</text>\n</a>\n</g>\n</g>\n<!-- matX2_1&#45;&gt;X2_1 -->\n<g class=\"edge\" id=\"edge29\">\n<title>matX2_1-&gt;X2_1</title>\n<g id=\"a_edge29\"><a xlink:title=\"(3, 5) : \">\n<path d=\"M441.1335,-222.2646C433.7856,-219.9628 426.0029,-217.7292 418.6465,-216 314.9317,-191.6204 283.8363,-210.139 181.6465,-180 179.2179,-179.2837 176.7453,-178.4499 174.2813,-177.541\" fill=\"none\" stroke=\"#4a4a4a\"/>\n<polygon fill=\"#4a4a4a\" points=\"175.5129,-174.2638 164.9303,-173.7544 172.8855,-180.752 175.5129,-174.2638\" stroke=\"#4a4a4a\"/>\n</a>\n</g>\n</g>\n<!-- fatX2_1&#45;&gt;X2_1 -->\n<g class=\"edge\" id=\"edge23\">\n<title>fatX2_1-&gt;X2_1</title>\n<g id=\"a_edge23\"><a xlink:title=\"(4, 5) : \">\n<path d=\"M141.6465,-215.8314C141.6465,-208.131 141.6465,-198.9743 141.6465,-190.4166\" fill=\"none\" stroke=\"#4a4a4a\"/>\n<polygon fill=\"#4a4a4a\" points=\"145.1466,-190.4132 141.6465,-180.4133 138.1466,-190.4133 145.1466,-190.4132\" stroke=\"#4a4a4a\"/>\n</a>\n</g>\n</g>\n<!-- matX3_1 -->\n<g class=\"node\" id=\"node7\">\n<title>matX3_1</title>\n<g id=\"a_node7\"><a xlink:title=\"(6) matX3_1\">\n<ellipse cx=\"478.6465\" cy=\"-306\" fill=\"#404040\" rx=\"44.393\" ry=\"18\" stroke=\"#000000\"/>\n<text fill=\"#ffffff\" font-family=\"Times,serif\" font-size=\"14.00\" text-anchor=\"middle\" x=\"478.6465\" y=\"-302.3\">matX3_1</text>\n</a>\n</g>\n</g>\n<!-- matX3_1&#45;&gt;matX2_1 -->\n<g class=\"edge\" id=\"edge16\">\n<title>matX3_1-&gt;matX2_1</title>\n<g id=\"a_edge16\"><a xlink:title=\"(6, 3) : \">\n<path d=\"M477.6371,-287.8314C477.2093,-280.131 476.7006,-270.9743 476.2252,-262.4166\" fill=\"none\" stroke=\"#4a4a4a\"/>\n<polygon fill=\"#4a4a4a\" points=\"479.7188,-262.2037 475.6694,-252.4133 472.7296,-262.592 479.7188,-262.2037\" stroke=\"#4a4a4a\"/>\n</a>\n</g>\n</g>\n<!-- X3_1 -->\n<g class=\"node\" id=\"node9\">\n<title>X3_1</title>\n<g id=\"a_node9\"><a xlink:title=\"(8) X3_1\">\n<ellipse cx=\"378.6465\" cy=\"-234\" fill=\"#404040\" rx=\"30.5947\" ry=\"18\" stroke=\"#000000\"/>\n<text fill=\"#ffffff\" font-family=\"Times,serif\" font-size=\"14.00\" text-anchor=\"middle\" x=\"378.6465\" y=\"-230.3\">X3_1</text>\n</a>\n</g>\n</g>\n<!-- matX3_1&#45;&gt;X3_1 -->\n<g class=\"edge\" id=\"edge33\">\n<title>matX3_1-&gt;X3_1</title>\n<g id=\"a_edge33\"><a xlink:title=\"(6, 8) : \">\n<path d=\"M456.4532,-290.0209C441.6941,-279.3943 422.1951,-265.355 406.4097,-253.9895\" fill=\"none\" stroke=\"#4a4a4a\"/>\n<polygon fill=\"#4a4a4a\" points=\"408.2362,-250.9918 398.0757,-247.9891 404.146,-256.6725 408.2362,-250.9918\" stroke=\"#4a4a4a\"/>\n</a>\n</g>\n</g>\n<!-- fatX3_1 -->\n<g class=\"node\" id=\"node8\">\n<title>fatX3_1</title>\n<g id=\"a_node8\"><a xlink:title=\"(7) fatX3_1\">\n<ellipse cx=\"376.6465\" cy=\"-306\" fill=\"#404040\" rx=\"39.7935\" ry=\"18\" stroke=\"#000000\"/>\n<text fill=\"#ffffff\" font-family=\"Times,serif\" font-size=\"14.00\" text-anchor=\"middle\" x=\"376.6465\" y=\"-302.3\">fatX3_1</text>\n</a>\n</g>\n</g>\n<!-- fatX3_1&#45;&gt;matX2_1 -->\n<g class=\"edge\" id=\"edge2\">\n<title>fatX3_1-&gt;matX2_1</title>\n<g id=\"a_edge2\"><a xlink:title=\"(7, 3) : \">\n<path d=\"M397.911,-290.3771C411.6855,-280.2571 429.8201,-266.9337 445.0013,-255.7801\" fill=\"none\" stroke=\"#4a4a4a\"/>\n<polygon fill=\"#4a4a4a\" points=\"447.0985,-258.5825 453.085,-249.8411 442.9539,-252.9413 447.0985,-258.5825\" stroke=\"#4a4a4a\"/>\n</a>\n</g>\n</g>\n<!-- fatX3_1&#45;&gt;X3_1 -->\n<g class=\"edge\" id=\"edge39\">\n<title>fatX3_1-&gt;X3_1</title>\n<g id=\"a_edge39\"><a xlink:title=\"(7, 8) : \">\n<path d=\"M377.1512,-287.8314C377.3651,-280.131 377.6194,-270.9743 377.8571,-262.4166\" fill=\"none\" stroke=\"#4a4a4a\"/>\n<polygon fill=\"#4a4a4a\" points=\"381.3559,-262.5066 378.135,-252.4133 374.3586,-262.3122 381.3559,-262.5066\" stroke=\"#4a4a4a\"/>\n</a>\n</g>\n</g>\n<!-- Sfat2_1 -->\n<g class=\"node\" id=\"node10\">\n<title>Sfat2_1</title>\n<g id=\"a_node10\"><a xlink:title=\"(9) Sfat2_1\">\n<ellipse cx=\"242.6465\" cy=\"-306\" fill=\"#404040\" rx=\"38.1938\" ry=\"18\" stroke=\"#000000\"/>\n<text fill=\"#ffffff\" font-family=\"Times,serif\" font-size=\"14.00\" text-anchor=\"middle\" x=\"242.6465\" y=\"-302.3\">Sfat2_1</text>\n</a>\n</g>\n</g>\n<!-- Sfat2_1&#45;&gt;fatX2_1 -->\n<g class=\"edge\" id=\"edge9\">\n<title>Sfat2_1-&gt;fatX2_1</title>\n<g id=\"a_edge9\"><a xlink:title=\"(9, 4) : \">\n<path d=\"M221.227,-290.7307C206.7651,-280.4212 187.4765,-266.6709 171.5111,-255.2896\" fill=\"none\" stroke=\"#4a4a4a\"/>\n<polygon fill=\"#4a4a4a\" points=\"173.2096,-252.2022 163.0351,-249.2473 169.1462,-257.9021 173.2096,-252.2022\" stroke=\"#4a4a4a\"/>\n</a>\n</g>\n</g>\n<!-- Sfat2_2 -->\n<g class=\"node\" id=\"node21\">\n<title>Sfat2_2</title>\n<g id=\"a_node21\"><a xlink:title=\"(20) Sfat2_2\">\n<ellipse cx=\"242.6465\" cy=\"-234\" fill=\"#404040\" rx=\"38.1938\" ry=\"18\" stroke=\"#000000\"/>\n<text fill=\"#ffffff\" font-family=\"Times,serif\" font-size=\"14.00\" text-anchor=\"middle\" x=\"242.6465\" y=\"-230.3\">Sfat2_2</text>\n</a>\n</g>\n</g>\n<!-- Sfat2_1&#45;&gt;Sfat2_2 -->\n<g class=\"edge\" id=\"edge22\">\n<title>Sfat2_1-&gt;Sfat2_2</title>\n<g id=\"a_edge22\"><a xlink:title=\"(9, 20) : \">\n<path d=\"M242.6465,-287.8314C242.6465,-280.131 242.6465,-270.9743 242.6465,-262.4166\" fill=\"none\" stroke=\"#4a4a4a\"/>\n<polygon fill=\"#4a4a4a\" points=\"246.1466,-262.4132 242.6465,-252.4133 239.1466,-262.4133 246.1466,-262.4132\" stroke=\"#4a4a4a\"/>\n</a>\n</g>\n</g>\n<!-- Smat2_1 -->\n<g class=\"node\" id=\"node11\">\n<title>Smat2_1</title>\n<g id=\"a_node11\"><a xlink:title=\"(10) Smat2_1\">\n<ellipse cx=\"701.6465\" cy=\"-306\" fill=\"#404040\" rx=\"42.4939\" ry=\"18\" stroke=\"#000000\"/>\n<text fill=\"#ffffff\" font-family=\"Times,serif\" font-size=\"14.00\" text-anchor=\"middle\" x=\"701.6465\" y=\"-302.3\">Smat2_1</text>\n</a>\n</g>\n</g>\n<!-- Smat2_1&#45;&gt;matX2_1 -->\n<g class=\"edge\" id=\"edge12\">\n<title>Smat2_1-&gt;matX2_1</title>\n<g id=\"a_edge12\"><a xlink:title=\"(10, 3) : \">\n<path d=\"M667.6623,-295.2209C628.1902,-282.7011 562.9333,-262.0029 519.3722,-248.1861\" fill=\"none\" stroke=\"#4a4a4a\"/>\n<polygon fill=\"#4a4a4a\" points=\"520.2002,-244.777 509.61,-245.0898 518.0838,-251.4494 520.2002,-244.777\" stroke=\"#4a4a4a\"/>\n</a>\n</g>\n</g>\n<!-- Smat2_2 -->\n<g class=\"node\" id=\"node22\">\n<title>Smat2_2</title>\n<g id=\"a_node22\"><a xlink:title=\"(21) Smat2_2\">\n<ellipse cx=\"820.6465\" cy=\"-234\" fill=\"#404040\" rx=\"42.4939\" ry=\"18\" stroke=\"#000000\"/>\n<text fill=\"#ffffff\" font-family=\"Times,serif\" font-size=\"14.00\" text-anchor=\"middle\" x=\"820.6465\" y=\"-230.3\">Smat2_2</text>\n</a>\n</g>\n</g>\n<!-- Smat2_1&#45;&gt;Smat2_2 -->\n<g class=\"edge\" id=\"edge6\">\n<title>Smat2_1-&gt;Smat2_2</title>\n<g id=\"a_edge6\"><a xlink:title=\"(10, 21) : \">\n<path d=\"M726.0151,-291.256C743.8231,-280.4814 768.1725,-265.749 787.7121,-253.9267\" fill=\"none\" stroke=\"#4a4a4a\"/>\n<polygon fill=\"#4a4a4a\" points=\"789.5665,-256.8955 796.3105,-248.7243 785.9428,-250.9064 789.5665,-256.8955\" stroke=\"#4a4a4a\"/>\n</a>\n</g>\n</g>\n<!-- matX1_2 -->\n<g class=\"node\" id=\"node12\">\n<title>matX1_2</title>\n<g id=\"a_node12\"><a xlink:title=\"(11) matX1_2\">\n<ellipse cx=\"716.6465\" cy=\"-234\" fill=\"#404040\" rx=\"44.393\" ry=\"18\" stroke=\"#000000\"/>\n<text fill=\"#ffffff\" font-family=\"Times,serif\" font-size=\"14.00\" text-anchor=\"middle\" x=\"716.6465\" y=\"-230.3\">matX1_2</text>\n</a>\n</g>\n</g>\n<!-- X1_2 -->\n<g class=\"node\" id=\"node14\">\n<title>X1_2</title>\n<g id=\"a_node14\"><a xlink:title=\"(13) X1_2\">\n<ellipse cx=\"725.6465\" cy=\"-162\" fill=\"#404040\" rx=\"30.5947\" ry=\"18\" stroke=\"#000000\"/>\n<text fill=\"#ffffff\" font-family=\"Times,serif\" font-size=\"14.00\" text-anchor=\"middle\" x=\"725.6465\" y=\"-158.3\">X1_2</text>\n</a>\n</g>\n</g>\n<!-- matX1_2&#45;&gt;X1_2 -->\n<g class=\"edge\" id=\"edge19\">\n<title>matX1_2-&gt;X1_2</title>\n<g id=\"a_edge19\"><a xlink:title=\"(11, 13) : \">\n<path d=\"M718.9176,-215.8314C719.8801,-208.131 721.0247,-198.9743 722.0944,-190.4166\" fill=\"none\" stroke=\"#4a4a4a\"/>\n<polygon fill=\"#4a4a4a\" points=\"725.5774,-190.7702 723.3448,-180.4133 718.6314,-189.9019 725.5774,-190.7702\" stroke=\"#4a4a4a\"/>\n</a>\n</g>\n</g>\n<!-- fatX2_2 -->\n<g class=\"node\" id=\"node16\">\n<title>fatX2_2</title>\n<g id=\"a_node16\"><a xlink:title=\"(15) fatX2_2\">\n<ellipse cx=\"637.6465\" cy=\"-162\" fill=\"#404040\" rx=\"39.7935\" ry=\"18\" stroke=\"#000000\"/>\n<text fill=\"#ffffff\" font-family=\"Times,serif\" font-size=\"14.00\" text-anchor=\"middle\" x=\"637.6465\" y=\"-158.3\">fatX2_2</text>\n</a>\n</g>\n</g>\n<!-- matX1_2&#45;&gt;fatX2_2 -->\n<g class=\"edge\" id=\"edge37\">\n<title>matX1_2-&gt;fatX2_2</title>\n<g id=\"a_edge37\"><a xlink:title=\"(11, 15) : \">\n<path d=\"M698.3237,-217.3008C687.8059,-207.715 674.444,-195.537 662.9379,-185.0504\" fill=\"none\" stroke=\"#4a4a4a\"/>\n<polygon fill=\"#4a4a4a\" points=\"665.075,-182.2626 655.3264,-178.1134 660.3598,-187.4363 665.075,-182.2626\" stroke=\"#4a4a4a\"/>\n</a>\n</g>\n</g>\n<!-- fatX1_2 -->\n<g class=\"node\" id=\"node13\">\n<title>fatX1_2</title>\n<g id=\"a_node13\"><a xlink:title=\"(12) fatX1_2\">\n<ellipse cx=\"614.6465\" cy=\"-234\" fill=\"#404040\" rx=\"39.7935\" ry=\"18\" stroke=\"#000000\"/>\n<text fill=\"#ffffff\" font-family=\"Times,serif\" font-size=\"14.00\" text-anchor=\"middle\" x=\"614.6465\" y=\"-230.3\">fatX1_2</text>\n</a>\n</g>\n</g>\n<!-- fatX1_2&#45;&gt;X1_2 -->\n<g class=\"edge\" id=\"edge15\">\n<title>fatX1_2-&gt;X1_2</title>\n<g id=\"a_edge15\"><a xlink:title=\"(12, 13) : \">\n<path d=\"M637.6458,-219.0816C654.672,-208.0375 677.9991,-192.9064 696.3585,-180.9976\" fill=\"none\" stroke=\"#4a4a4a\"/>\n<polygon fill=\"#4a4a4a\" points=\"698.4379,-183.8207 704.9228,-175.4424 694.6285,-177.948 698.4379,-183.8207\" stroke=\"#4a4a4a\"/>\n</a>\n</g>\n</g>\n<!-- fatX1_2&#45;&gt;fatX2_2 -->\n<g class=\"edge\" id=\"edge30\">\n<title>fatX1_2-&gt;fatX2_2</title>\n<g id=\"a_edge30\"><a xlink:title=\"(12, 15) : \">\n<path d=\"M620.4504,-215.8314C623.0029,-207.8406 626.0564,-198.2819 628.8773,-189.4514\" fill=\"none\" stroke=\"#4a4a4a\"/>\n<polygon fill=\"#4a4a4a\" points=\"632.2151,-190.5043 631.9241,-179.9134 625.5471,-188.3741 632.2151,-190.5043\" stroke=\"#4a4a4a\"/>\n</a>\n</g>\n</g>\n<!-- matX2_2 -->\n<g class=\"node\" id=\"node15\">\n<title>matX2_2</title>\n<g id=\"a_node15\"><a xlink:title=\"(14) matX2_2\">\n<ellipse cx=\"920.6465\" cy=\"-162\" fill=\"#404040\" rx=\"44.393\" ry=\"18\" stroke=\"#000000\"/>\n<text fill=\"#ffffff\" font-family=\"Times,serif\" font-size=\"14.00\" text-anchor=\"middle\" x=\"920.6465\" y=\"-158.3\">matX2_2</text>\n</a>\n</g>\n</g>\n<!-- X2_2 -->\n<g class=\"node\" id=\"node17\">\n<title>X2_2</title>\n<g id=\"a_node17\"><a xlink:title=\"(16) X2_2\">\n<ellipse cx=\"778.6465\" cy=\"-90\" fill=\"#404040\" rx=\"30.5947\" ry=\"18\" stroke=\"#000000\"/>\n<text fill=\"#ffffff\" font-family=\"Times,serif\" font-size=\"14.00\" text-anchor=\"middle\" x=\"778.6465\" y=\"-86.3\">X2_2</text>\n</a>\n</g>\n</g>\n<!-- matX2_2&#45;&gt;X2_2 -->\n<g class=\"edge\" id=\"edge32\">\n<title>matX2_2-&gt;X2_2</title>\n<g id=\"a_edge32\"><a xlink:title=\"(14, 16) : \">\n<path d=\"M892.9304,-147.9468C869.4557,-136.0441 835.7731,-118.9656 811.0547,-106.4324\" fill=\"none\" stroke=\"#4a4a4a\"/>\n<polygon fill=\"#4a4a4a\" points=\"812.5619,-103.2724 802.0601,-101.8717 809.3963,-109.5157 812.5619,-103.2724\" stroke=\"#4a4a4a\"/>\n</a>\n</g>\n</g>\n<!-- fatX2_2&#45;&gt;X2_2 -->\n<g class=\"edge\" id=\"edge5\">\n<title>fatX2_2-&gt;X2_2</title>\n<g id=\"a_edge5\"><a xlink:title=\"(15, 16) : \">\n<path d=\"M664.1675,-148.4574C687.5107,-136.5374 721.5644,-119.1483 746.4614,-106.4349\" fill=\"none\" stroke=\"#4a4a4a\"/>\n<polygon fill=\"#4a4a4a\" points=\"748.1994,-109.4774 755.5137,-101.8125 745.0159,-103.2432 748.1994,-109.4774\" stroke=\"#4a4a4a\"/>\n</a>\n</g>\n</g>\n<!-- matX3_2 -->\n<g class=\"node\" id=\"node18\">\n<title>matX3_2</title>\n<g id=\"a_node18\"><a xlink:title=\"(17) matX3_2\">\n<ellipse cx=\"1022.6465\" cy=\"-234\" fill=\"#404040\" rx=\"44.393\" ry=\"18\" stroke=\"#000000\"/>\n<text fill=\"#ffffff\" font-family=\"Times,serif\" font-size=\"14.00\" text-anchor=\"middle\" x=\"1022.6465\" y=\"-230.3\">matX3_2</text>\n</a>\n</g>\n</g>\n<!-- matX3_2&#45;&gt;matX2_2 -->\n<g class=\"edge\" id=\"edge18\">\n<title>matX3_2-&gt;matX2_2</title>\n<g id=\"a_edge18\"><a xlink:title=\"(17, 14) : \">\n<path d=\"M1000.514,-218.3771C986.0784,-208.1873 967.042,-194.7498 951.1752,-183.5497\" fill=\"none\" stroke=\"#4a4a4a\"/>\n<polygon fill=\"#4a4a4a\" points=\"952.9239,-180.4999 942.7358,-177.5924 948.8871,-186.2187 952.9239,-180.4999\" stroke=\"#4a4a4a\"/>\n</a>\n</g>\n</g>\n<!-- X3_2 -->\n<g class=\"node\" id=\"node20\">\n<title>X3_2</title>\n<g id=\"a_node20\"><a xlink:title=\"(19) X3_2\">\n<ellipse cx=\"1018.6465\" cy=\"-162\" fill=\"#404040\" rx=\"30.5947\" ry=\"18\" stroke=\"#000000\"/>\n<text fill=\"#ffffff\" font-family=\"Times,serif\" font-size=\"14.00\" text-anchor=\"middle\" x=\"1018.6465\" y=\"-158.3\">X3_2</text>\n</a>\n</g>\n</g>\n<!-- matX3_2&#45;&gt;X3_2 -->\n<g class=\"edge\" id=\"edge20\">\n<title>matX3_2-&gt;X3_2</title>\n<g id=\"a_edge20\"><a xlink:title=\"(17, 19) : \">\n<path d=\"M1021.6371,-215.8314C1021.2093,-208.131 1020.7006,-198.9743 1020.2252,-190.4166\" fill=\"none\" stroke=\"#4a4a4a\"/>\n<polygon fill=\"#4a4a4a\" points=\"1023.7188,-190.2037 1019.6694,-180.4133 1016.7296,-190.592 1023.7188,-190.2037\" stroke=\"#4a4a4a\"/>\n</a>\n</g>\n</g>\n<!-- fatX3_2 -->\n<g class=\"node\" id=\"node19\">\n<title>fatX3_2</title>\n<g id=\"a_node19\"><a xlink:title=\"(18) fatX3_2\">\n<ellipse cx=\"920.6465\" cy=\"-234\" fill=\"#404040\" rx=\"39.7935\" ry=\"18\" stroke=\"#000000\"/>\n<text fill=\"#ffffff\" font-family=\"Times,serif\" font-size=\"14.00\" text-anchor=\"middle\" x=\"920.6465\" y=\"-230.3\">fatX3_2</text>\n</a>\n</g>\n</g>\n<!-- fatX3_2&#45;&gt;matX2_2 -->\n<g class=\"edge\" id=\"edge36\">\n<title>fatX3_2-&gt;matX2_2</title>\n<g id=\"a_edge36\"><a xlink:title=\"(18, 14) : \">\n<path d=\"M920.6465,-215.8314C920.6465,-208.131 920.6465,-198.9743 920.6465,-190.4166\" fill=\"none\" stroke=\"#4a4a4a\"/>\n<polygon fill=\"#4a4a4a\" points=\"924.1466,-190.4132 920.6465,-180.4133 917.1466,-190.4133 924.1466,-190.4132\" stroke=\"#4a4a4a\"/>\n</a>\n</g>\n</g>\n<!-- fatX3_2&#45;&gt;X3_2 -->\n<g class=\"edge\" id=\"edge8\">\n<title>fatX3_2-&gt;X3_2</title>\n<g id=\"a_edge8\"><a xlink:title=\"(18, 19) : \">\n<path d=\"M941.911,-218.3771C956.3505,-207.7685 975.5811,-193.6398 991.1785,-182.1806\" fill=\"none\" stroke=\"#4a4a4a\"/>\n<polygon fill=\"#4a4a4a\" points=\"993.4298,-184.8696 999.4164,-176.1282 989.2852,-179.2285 993.4298,-184.8696\" stroke=\"#4a4a4a\"/>\n</a>\n</g>\n</g>\n<!-- Sfat2_2&#45;&gt;fatX2_2 -->\n<g class=\"edge\" id=\"edge38\">\n<title>Sfat2_2-&gt;fatX2_2</title>\n<g id=\"a_edge38\"><a xlink:title=\"(20, 15) : \">\n<path d=\"M278.1428,-226.9685C296.2222,-223.4828 318.5707,-219.3202 338.6465,-216 449.8333,-197.6114 480.4699,-207.9486 589.6465,-180 592.6116,-179.2409 595.6464,-178.361 598.6785,-177.4063\" fill=\"none\" stroke=\"#4a4a4a\"/>\n<polygon fill=\"#4a4a4a\" points=\"599.9169,-180.6822 608.2656,-174.1592 597.6713,-174.0522 599.9169,-180.6822\" stroke=\"#4a4a4a\"/>\n</a>\n</g>\n</g>\n<!-- Sfat2_3 -->\n<g class=\"node\" id=\"node32\">\n<title>Sfat2_3</title>\n<g id=\"a_node32\"><a xlink:title=\"(31) Sfat2_3\">\n<ellipse cx=\"54.6465\" cy=\"-162\" fill=\"#404040\" rx=\"38.1938\" ry=\"18\" stroke=\"#000000\"/>\n<text fill=\"#ffffff\" font-family=\"Times,serif\" font-size=\"14.00\" text-anchor=\"middle\" x=\"54.6465\" y=\"-158.3\">Sfat2_3</text>\n</a>\n</g>\n</g>\n<!-- Sfat2_2&#45;&gt;Sfat2_3 -->\n<g class=\"edge\" id=\"edge25\">\n<title>Sfat2_2-&gt;Sfat2_3</title>\n<g id=\"a_edge25\"><a xlink:title=\"(20, 31) : \">\n<path d=\"M212.8573,-222.5914C180.7746,-210.3044 129.5762,-190.6965 94.1513,-177.1295\" fill=\"none\" stroke=\"#4a4a4a\"/>\n<polygon fill=\"#4a4a4a\" points=\"95.1973,-173.7823 84.6069,-173.4742 92.6937,-180.3193 95.1973,-173.7823\" stroke=\"#4a4a4a\"/>\n</a>\n</g>\n</g>\n<!-- Smat2_2&#45;&gt;matX2_2 -->\n<g class=\"edge\" id=\"edge1\">\n<title>Smat2_2-&gt;matX2_2</title>\n<g id=\"a_edge1\"><a xlink:title=\"(21, 14) : \">\n<path d=\"M842.345,-218.3771C856.4006,-208.2571 874.9052,-194.9337 890.3963,-183.7801\" fill=\"none\" stroke=\"#4a4a4a\"/>\n<polygon fill=\"#4a4a4a\" points=\"892.5747,-186.5245 898.645,-177.8411 888.4845,-180.8438 892.5747,-186.5245\" stroke=\"#4a4a4a\"/>\n</a>\n</g>\n</g>\n<!-- Smat2_3 -->\n<g class=\"node\" id=\"node33\">\n<title>Smat2_3</title>\n<g id=\"a_node33\"><a xlink:title=\"(32) Smat2_3\">\n<ellipse cx=\"816.6465\" cy=\"-162\" fill=\"#404040\" rx=\"42.4939\" ry=\"18\" stroke=\"#000000\"/>\n<text fill=\"#ffffff\" font-family=\"Times,serif\" font-size=\"14.00\" text-anchor=\"middle\" x=\"816.6465\" y=\"-158.3\">Smat2_3</text>\n</a>\n</g>\n</g>\n<!-- Smat2_2&#45;&gt;Smat2_3 -->\n<g class=\"edge\" id=\"edge34\">\n<title>Smat2_2-&gt;Smat2_3</title>\n<g id=\"a_edge34\"><a xlink:title=\"(21, 32) : \">\n<path d=\"M819.6371,-215.8314C819.2093,-208.131 818.7006,-198.9743 818.2252,-190.4166\" fill=\"none\" stroke=\"#4a4a4a\"/>\n<polygon fill=\"#4a4a4a\" points=\"821.7188,-190.2037 817.6694,-180.4133 814.7296,-190.592 821.7188,-190.2037\" stroke=\"#4a4a4a\"/>\n</a>\n</g>\n</g>\n<!-- matX1_3 -->\n<g class=\"node\" id=\"node23\">\n<title>matX1_3</title>\n<g id=\"a_node23\"><a xlink:title=\"(22) matX1_3\">\n<ellipse cx=\"234.6465\" cy=\"-162\" fill=\"#404040\" rx=\"44.393\" ry=\"18\" stroke=\"#000000\"/>\n<text fill=\"#ffffff\" font-family=\"Times,serif\" font-size=\"14.00\" text-anchor=\"middle\" x=\"234.6465\" y=\"-158.3\">matX1_3</text>\n</a>\n</g>\n</g>\n<!-- X1_3 -->\n<g class=\"node\" id=\"node25\">\n<title>X1_3</title>\n<g id=\"a_node25\"><a xlink:title=\"(24) X1_3\">\n<ellipse cx=\"329.6465\" cy=\"-90\" fill=\"#404040\" rx=\"30.5947\" ry=\"18\" stroke=\"#000000\"/>\n<text fill=\"#ffffff\" font-family=\"Times,serif\" font-size=\"14.00\" text-anchor=\"middle\" x=\"329.6465\" y=\"-86.3\">X1_3</text>\n</a>\n</g>\n</g>\n<!-- matX1_3&#45;&gt;X1_3 -->\n<g class=\"edge\" id=\"edge21\">\n<title>matX1_3-&gt;X1_3</title>\n<g id=\"a_edge21\"><a xlink:title=\"(22, 24) : \">\n<path d=\"M255.7301,-146.0209C269.5301,-135.5619 287.6919,-121.7972 302.559,-110.5294\" fill=\"none\" stroke=\"#4a4a4a\"/>\n<polygon fill=\"#4a4a4a\" points=\"305.0184,-113.0572 310.874,-104.2276 300.7902,-107.4784 305.0184,-113.0572\" stroke=\"#4a4a4a\"/>\n</a>\n</g>\n</g>\n<!-- fatX2_3 -->\n<g class=\"node\" id=\"node27\">\n<title>fatX2_3</title>\n<g id=\"a_node27\"><a xlink:title=\"(26) fatX2_3\">\n<ellipse cx=\"238.6465\" cy=\"-90\" fill=\"#404040\" rx=\"39.7935\" ry=\"18\" stroke=\"#000000\"/>\n<text fill=\"#ffffff\" font-family=\"Times,serif\" font-size=\"14.00\" text-anchor=\"middle\" x=\"238.6465\" y=\"-86.3\">fatX2_3</text>\n</a>\n</g>\n</g>\n<!-- matX1_3&#45;&gt;fatX2_3 -->\n<g class=\"edge\" id=\"edge3\">\n<title>matX1_3-&gt;fatX2_3</title>\n<g id=\"a_edge3\"><a xlink:title=\"(22, 26) : \">\n<path d=\"M235.6559,-143.8314C236.0837,-136.131 236.5924,-126.9743 237.0678,-118.4166\" fill=\"none\" stroke=\"#4a4a4a\"/>\n<polygon fill=\"#4a4a4a\" points=\"240.5633,-118.592 237.6235,-108.4133 233.5741,-118.2037 240.5633,-118.592\" stroke=\"#4a4a4a\"/>\n</a>\n</g>\n</g>\n<!-- fatX1_3 -->\n<g class=\"node\" id=\"node24\">\n<title>fatX1_3</title>\n<g id=\"a_node24\"><a xlink:title=\"(23) fatX1_3\">\n<ellipse cx=\"336.6465\" cy=\"-162\" fill=\"#404040\" rx=\"39.7935\" ry=\"18\" stroke=\"#000000\"/>\n<text fill=\"#ffffff\" font-family=\"Times,serif\" font-size=\"14.00\" text-anchor=\"middle\" x=\"336.6465\" y=\"-158.3\">fatX1_3</text>\n</a>\n</g>\n</g>\n<!-- fatX1_3&#45;&gt;X1_3 -->\n<g class=\"edge\" id=\"edge28\">\n<title>fatX1_3-&gt;X1_3</title>\n<g id=\"a_edge28\"><a xlink:title=\"(23, 24) : \">\n<path d=\"M334.8801,-143.8314C334.1314,-136.131 333.2412,-126.9743 332.4092,-118.4166\" fill=\"none\" stroke=\"#4a4a4a\"/>\n<polygon fill=\"#4a4a4a\" points=\"335.888,-118.0276 331.4367,-108.4133 328.9208,-118.7051 335.888,-118.0276\" stroke=\"#4a4a4a\"/>\n</a>\n</g>\n</g>\n<!-- fatX1_3&#45;&gt;fatX2_3 -->\n<g class=\"edge\" id=\"edge10\">\n<title>fatX1_3-&gt;fatX2_3</title>\n<g id=\"a_edge10\"><a xlink:title=\"(23, 26) : \">\n<path d=\"M315.3819,-146.3771C301.4175,-136.1175 282.9718,-122.5656 267.6652,-111.3199\" fill=\"none\" stroke=\"#4a4a4a\"/>\n<polygon fill=\"#4a4a4a\" points=\"269.664,-108.4453 259.5329,-105.3451 265.5194,-114.0865 269.664,-108.4453\" stroke=\"#4a4a4a\"/>\n</a>\n</g>\n</g>\n<!-- matX2_3 -->\n<g class=\"node\" id=\"node26\">\n<title>matX2_3</title>\n<g id=\"a_node26\"><a xlink:title=\"(25) matX2_3\">\n<ellipse cx=\"536.6465\" cy=\"-90\" fill=\"#404040\" rx=\"44.393\" ry=\"18\" stroke=\"#000000\"/>\n<text fill=\"#ffffff\" font-family=\"Times,serif\" font-size=\"14.00\" text-anchor=\"middle\" x=\"536.6465\" y=\"-86.3\">matX2_3</text>\n</a>\n</g>\n</g>\n<!-- X2_3 -->\n<g class=\"node\" id=\"node28\">\n<title>X2_3</title>\n<g id=\"a_node28\"><a xlink:title=\"(27) X2_3\">\n<ellipse cx=\"384.6465\" cy=\"-18\" fill=\"#404040\" rx=\"30.5947\" ry=\"18\" stroke=\"#000000\"/>\n<text fill=\"#ffffff\" font-family=\"Times,serif\" font-size=\"14.00\" text-anchor=\"middle\" x=\"384.6465\" y=\"-14.3\">X2_3</text>\n</a>\n</g>\n</g>\n<!-- matX2_3&#45;&gt;X2_3 -->\n<g class=\"edge\" id=\"edge7\">\n<title>matX2_3-&gt;X2_3</title>\n<g id=\"a_edge7\"><a xlink:title=\"(25, 27) : \">\n<path d=\"M507.6987,-76.2879C482.076,-64.1508 444.6899,-46.4416 417.8582,-33.7319\" fill=\"none\" stroke=\"#4a4a4a\"/>\n<polygon fill=\"#4a4a4a\" points=\"419.0275,-30.413 408.4918,-29.2951 416.0309,-36.7392 419.0275,-30.413\" stroke=\"#4a4a4a\"/>\n</a>\n</g>\n</g>\n<!-- fatX2_3&#45;&gt;X2_3 -->\n<g class=\"edge\" id=\"edge31\">\n<title>fatX2_3-&gt;X2_3</title>\n<g id=\"a_edge31\"><a xlink:title=\"(26, 27) : \">\n<path d=\"M265.7658,-76.6261C290.1497,-64.6012 326.0189,-46.9122 351.975,-34.112\" fill=\"none\" stroke=\"#4a4a4a\"/>\n<polygon fill=\"#4a4a4a\" points=\"353.629,-37.1988 361.0496,-29.6368 350.5329,-30.9207 353.629,-37.1988\" stroke=\"#4a4a4a\"/>\n</a>\n</g>\n</g>\n<!-- matX3_3 -->\n<g class=\"node\" id=\"node29\">\n<title>matX3_3</title>\n<g id=\"a_node29\"><a xlink:title=\"(28) matX3_3\">\n<ellipse cx=\"438.6465\" cy=\"-162\" fill=\"#404040\" rx=\"44.393\" ry=\"18\" stroke=\"#000000\"/>\n<text fill=\"#ffffff\" font-family=\"Times,serif\" font-size=\"14.00\" text-anchor=\"middle\" x=\"438.6465\" y=\"-158.3\">matX3_3</text>\n</a>\n</g>\n</g>\n<!-- matX3_3&#45;&gt;matX2_3 -->\n<g class=\"edge\" id=\"edge11\">\n<title>matX3_3-&gt;matX2_3</title>\n<g id=\"a_edge11\"><a xlink:title=\"(28, 25) : \">\n<path d=\"M460.3959,-146.0209C473.9717,-136.0468 491.6396,-123.0663 506.5496,-112.112\" fill=\"none\" stroke=\"#4a4a4a\"/>\n<polygon fill=\"#4a4a4a\" points=\"508.9713,-114.6759 514.9579,-105.9345 504.8268,-109.0347 508.9713,-114.6759\" stroke=\"#4a4a4a\"/>\n</a>\n</g>\n</g>\n<!-- X3_3 -->\n<g class=\"node\" id=\"node31\">\n<title>X3_3</title>\n<g id=\"a_node31\"><a xlink:title=\"(30) X3_3\">\n<ellipse cx=\"440.6465\" cy=\"-90\" fill=\"#404040\" rx=\"30.5947\" ry=\"18\" stroke=\"#000000\"/>\n<text fill=\"#ffffff\" font-family=\"Times,serif\" font-size=\"14.00\" text-anchor=\"middle\" x=\"440.6465\" y=\"-86.3\">X3_3</text>\n</a>\n</g>\n</g>\n<!-- matX3_3&#45;&gt;X3_3 -->\n<g class=\"edge\" id=\"edge14\">\n<title>matX3_3-&gt;X3_3</title>\n<g id=\"a_edge14\"><a xlink:title=\"(28, 30) : \">\n<path d=\"M439.1512,-143.8314C439.3651,-136.131 439.6194,-126.9743 439.8571,-118.4166\" fill=\"none\" stroke=\"#4a4a4a\"/>\n<polygon fill=\"#4a4a4a\" points=\"443.3559,-118.5066 440.135,-108.4133 436.3586,-118.3122 443.3559,-118.5066\" stroke=\"#4a4a4a\"/>\n</a>\n</g>\n</g>\n<!-- fatX3_3 -->\n<g class=\"node\" id=\"node30\">\n<title>fatX3_3</title>\n<g id=\"a_node30\"><a xlink:title=\"(29) fatX3_3\">\n<ellipse cx=\"540.6465\" cy=\"-162\" fill=\"#404040\" rx=\"39.7935\" ry=\"18\" stroke=\"#000000\"/>\n<text fill=\"#ffffff\" font-family=\"Times,serif\" font-size=\"14.00\" text-anchor=\"middle\" x=\"540.6465\" y=\"-158.3\">fatX3_3</text>\n</a>\n</g>\n</g>\n<!-- fatX3_3&#45;&gt;matX2_3 -->\n<g class=\"edge\" id=\"edge27\">\n<title>fatX3_3-&gt;matX2_3</title>\n<g id=\"a_edge27\"><a xlink:title=\"(29, 25) : \">\n<path d=\"M539.6371,-143.8314C539.2093,-136.131 538.7006,-126.9743 538.2252,-118.4166\" fill=\"none\" stroke=\"#4a4a4a\"/>\n<polygon fill=\"#4a4a4a\" points=\"541.7188,-118.2037 537.6694,-108.4133 534.7296,-118.592 541.7188,-118.2037\" stroke=\"#4a4a4a\"/>\n</a>\n</g>\n</g>\n<!-- fatX3_3&#45;&gt;X3_3 -->\n<g class=\"edge\" id=\"edge24\">\n<title>fatX3_3-&gt;X3_3</title>\n<g id=\"a_edge24\"><a xlink:title=\"(29, 30) : \">\n<path d=\"M519.4391,-146.7307C504.6366,-136.0729 484.7269,-121.7379 468.6249,-110.1445\" fill=\"none\" stroke=\"#4a4a4a\"/>\n<polygon fill=\"#4a4a4a\" points=\"470.2882,-107.0292 460.1277,-104.0265 466.198,-112.71 470.2882,-107.0292\" stroke=\"#4a4a4a\"/>\n</a>\n</g>\n</g>\n<!-- Sfat2_3&#45;&gt;fatX2_3 -->\n<g class=\"edge\" id=\"edge4\">\n<title>Sfat2_3-&gt;fatX2_3</title>\n<g id=\"a_edge4\"><a xlink:title=\"(31, 26) : \">\n<path d=\"M84.2093,-150.432C115.2758,-138.2755 164.3272,-119.0815 198.7959,-105.5937\" fill=\"none\" stroke=\"#4a4a4a\"/>\n<polygon fill=\"#4a4a4a\" points=\"200.5088,-108.6819 208.5458,-101.7785 197.9579,-102.1632 200.5088,-108.6819\" stroke=\"#4a4a4a\"/>\n</a>\n</g>\n</g>\n<!-- Smat2_3&#45;&gt;matX2_3 -->\n<g class=\"edge\" id=\"edge35\">\n<title>Smat2_3-&gt;matX2_3</title>\n<g id=\"a_edge35\"><a xlink:title=\"(32, 25) : \">\n<path d=\"M784.7155,-150.1382C778.4335,-147.9728 771.8631,-145.8242 765.6465,-144 704.4833,-126.0518 632.7959,-109.9199 586.1414,-100.0591\" fill=\"none\" stroke=\"#4a4a4a\"/>\n<polygon fill=\"#4a4a4a\" points=\"586.7957,-96.6202 576.29,-97.9915 585.3578,-103.471 586.7957,-96.6202\" stroke=\"#4a4a4a\"/>\n</a>\n</g>\n</g>\n</g>\n</svg>"
     },
     "metadata": {},
     "output_type": "display_data"
    }
   ],
   "source": [
    "bn = pview.bn_multi_pb(ped, 0.05, 3,[0.8,0.7])\n",
    "pview.gnb.showBN(bn, size=100)\n"
   ],
   "metadata": {
    "collapsed": false,
    "pycharm": {
     "name": "#%%\n",
     "is_executing": false
    }
   }
  },
  {
   "cell_type": "code",
   "execution_count": 4,
   "outputs": [
    {
     "data": {
      "text/plain": "(gum::Potential<double>@0x562c71521830) <Sfat2_1:fat> :: 0.5 /<Sfat2_1:mat> :: 0.5",
      "text/html": "<table style=\"border:1px solid black;\">\n<tr style='border:1px solid black;color:black;background-color:#808080'><th colspan='2'><center>Sfat2_1</center></th></tr>\n<tr><th style='border:1px solid black;border-bottom-style: double;color:black;background-color:#BBBBBB'><center>fat</center></th><th style='border:1px solid black;border-bottom-style: double;color:black;background-color:#BBBBBB'><center>mat</center></th></tr>\n<tr><td style='color:black;background-color:#bfbf64;text-align:right;'>0.5000</td><td style='color:black;background-color:#bfbf64;text-align:right;'>0.5000</td></tr>\n</table>"
     },
     "metadata": {},
     "output_type": "execute_result",
     "execution_count": 4
    }
   ],
   "source": [
    "bn.cpt('Sfat2_1')"
   ],
   "metadata": {
    "collapsed": false,
    "pycharm": {
     "name": "#%%\n",
     "is_executing": false
    }
   }
  },
  {
   "cell_type": "code",
   "execution_count": 5,
   "outputs": [
    {
     "data": {
      "text/plain": "(gum::Potential<double>@0x562c719d6bc0) <Sfat2_2:fat|Sfat2_1:fat> :: 0.2 /<Sfat2_2:mat|Sfat2_1:fat> :: 0.8 /<Sfat2_2:fat|Sfat2_1:mat> :: 0.8 /<Sfat2_2:mat|Sfat2_1:mat> :: 0.2",
      "text/html": "<table style=\"border:1px solid black;\">\n<tr><th colspan='1'></th><th colspan='2' style='border:1px solid black;color:black;background-color:#808080;'><center>Sfat2_2</center></th></tr>\n<tr><th style='border:1px solid black;color:black;background-color:#808080'><center>Sfat2_1</center></th><th style='border:1px solid black;border-bottom-style: double;color:black;background-color:#BBBBBB'><center>fat</center></th><th style='border:1px solid black;border-bottom-style: double;color:black;background-color:#BBBBBB'><center>mat</center></th></tr>\n<tr><th style='border:1px solid black;color:black;background-color:#BBBBBB'><center>fat</center></th><td style='color:black;background-color:#e59864;text-align:right;'>0.2000</td><td style='color:black;background-color:#98e564;text-align:right;'>0.8000</td></tr>\n<tr><th style='border:1px solid black;color:black;background-color:#BBBBBB'><center>mat</center></th><td style='color:black;background-color:#98e564;text-align:right;'>0.8000</td><td style='color:black;background-color:#e59864;text-align:right;'>0.2000</td></tr>\n</table>"
     },
     "metadata": {},
     "output_type": "execute_result",
     "execution_count": 5
    }
   ],
   "source": [
    "bn.cpt('Sfat2_2')"
   ],
   "metadata": {
    "collapsed": false,
    "pycharm": {
     "name": "#%%\n",
     "is_executing": false
    }
   }
  },
  {
   "cell_type": "code",
   "execution_count": 6,
   "outputs": [
    {
     "name": "stdout",
     "text": [
      "Sfat2_1 Smat2_1\n",
      "Smat2_1 X1_1\n",
      "X1_1 X2_1\n",
      "X2_1 X3_1\n",
      "X3_1 fatX1_1\n",
      "fatX1_1 fatX2_1\n",
      "fatX2_1 fatX3_1\n",
      "fatX3_1 matX1_1\n",
      "matX1_1 matX2_1\n",
      "matX2_1 matX3_1\n",
      "Sfat2_2 Smat2_2\n",
      "Smat2_2 X1_2\n",
      "X1_2 X2_2\n",
      "X2_2 X3_2\n",
      "X3_2 fatX1_2\n",
      "fatX1_2 fatX2_2\n",
      "fatX2_2 fatX3_2\n",
      "fatX3_2 matX1_2\n",
      "matX1_2 matX2_2\n",
      "matX2_2 matX3_2\n",
      "Sfat2_3 Smat2_3\n",
      "Smat2_3 X1_3\n",
      "X1_3 X2_3\n",
      "X2_3 X3_3\n",
      "X3_3 fatX1_3\n",
      "fatX1_3 fatX2_3\n",
      "fatX2_3 fatX3_3\n",
      "fatX3_3 matX1_3\n",
      "matX1_3 matX2_3\n",
      "matX2_3 matX3_3\n",
      "digraph G {\n",
      "edge [color=blue];\n",
      "node [color=\"#000000\", fillcolor=white, style=filled];\n",
      "subgraph cluster_1 {\n",
      "bgcolor=\"#DDDDDD\";\n",
      "label=\"Gene 1\";\n",
      "\"Sfat2_1\" [label=\"Sfat2_\"];\n",
      "\"Smat2_1\" [label=\"Smat2_\"];\n",
      "\"X1_1\" [label=\"X1_\"];\n",
      "\"X2_1\" [label=\"X2_\"];\n",
      "\"X3_1\" [label=\"X3_\"];\n",
      "\"fatX1_1\" [label=\"fatX1_\"];\n",
      "\"fatX2_1\" [label=\"fatX2_\"];\n",
      "\"fatX3_1\" [label=\"fatX3_\"];\n",
      "\"matX1_1\" [label=\"matX1_\"];\n",
      "\"matX2_1\" [label=\"matX2_\"];\n",
      "\"matX3_1\" [label=\"matX3_\"];\n",
      "\"Sfat2_1\" -> \"Smat2_1\";\n",
      "\"Smat2_1\" -> \"X1_1\";\n",
      "\"X1_1\" -> \"X2_1\";\n",
      "\"X2_1\" -> \"X3_1\";\n",
      "\"X3_1\" -> \"fatX1_1\";\n",
      "\"fatX1_1\" -> \"fatX2_1\";\n",
      "\"fatX2_1\" -> \"fatX3_1\";\n",
      "\"fatX3_1\" -> \"matX1_1\";\n",
      "\"matX1_1\" -> \"matX2_1\";\n",
      "\"matX2_1\" -> \"matX3_1\";\n",
      "}\n",
      "\n",
      "subgraph cluster_2 {\n",
      "bgcolor=\"#DDDDDD\";\n",
      "label=\"Gene 2\";\n",
      "\"Sfat2_2\" [label=\"Sfat2_\"];\n",
      "\"Smat2_2\" [label=\"Smat2_\"];\n",
      "\"X1_2\" [label=\"X1_\"];\n",
      "\"X2_2\" [label=\"X2_\"];\n",
      "\"X3_2\" [label=\"X3_\"];\n",
      "\"fatX1_2\" [label=\"fatX1_\"];\n",
      "\"fatX2_2\" [label=\"fatX2_\"];\n",
      "\"fatX3_2\" [label=\"fatX3_\"];\n",
      "\"matX1_2\" [label=\"matX1_\"];\n",
      "\"matX2_2\" [label=\"matX2_\"];\n",
      "\"matX3_2\" [label=\"matX3_\"];\n",
      "\"Sfat2_2\" -> \"Smat2_2\";\n",
      "\"Smat2_2\" -> \"X1_2\";\n",
      "\"X1_2\" -> \"X2_2\";\n",
      "\"X2_2\" -> \"X3_2\";\n",
      "\"X3_2\" -> \"fatX1_2\";\n",
      "\"fatX1_2\" -> \"fatX2_2\";\n",
      "\"fatX2_2\" -> \"fatX3_2\";\n",
      "\"fatX3_2\" -> \"matX1_2\";\n",
      "\"matX1_2\" -> \"matX2_2\";\n",
      "\"matX2_2\" -> \"matX3_2\";\n",
      "}\n",
      "\n",
      "subgraph cluster_3 {\n",
      "bgcolor=\"#DDDDDD\";\n",
      "label=\"Gene 3\";\n",
      "\"Sfat2_3\" [label=\"Sfat2_\"];\n",
      "\"Smat2_3\" [label=\"Smat2_\"];\n",
      "\"X1_3\" [label=\"X1_\"];\n",
      "\"X2_3\" [label=\"X2_\"];\n",
      "\"X3_3\" [label=\"X3_\"];\n",
      "\"fatX1_3\" [label=\"fatX1_\"];\n",
      "\"fatX2_3\" [label=\"fatX2_\"];\n",
      "\"fatX3_3\" [label=\"fatX3_\"];\n",
      "\"matX1_3\" [label=\"matX1_\"];\n",
      "\"matX2_3\" [label=\"matX2_\"];\n",
      "\"matX3_3\" [label=\"matX3_\"];\n",
      "\"Sfat2_3\" -> \"Smat2_3\";\n",
      "\"Smat2_3\" -> \"X1_3\";\n",
      "\"X1_3\" -> \"X2_3\";\n",
      "\"X2_3\" -> \"X3_3\";\n",
      "\"X3_3\" -> \"fatX1_3\";\n",
      "\"fatX1_3\" -> \"fatX2_3\";\n",
      "\"fatX2_3\" -> \"fatX3_3\";\n",
      "\"fatX3_3\" -> \"matX1_3\";\n",
      "\"matX1_3\" -> \"matX2_3\";\n",
      "\"matX2_3\" -> \"matX3_3\";\n",
      "}\n",
      "\n",
      "}\n",
      "\n"
     ],
     "output_type": "stream"
    },
    {
     "data": {
      "text/plain": "<IPython.core.display.SVG object>",
      "image/svg+xml": "<svg height=\"432pt\" viewBox=\"0.00 0.00 173.01 432.00\" width=\"173pt\" xmlns=\"http://www.w3.org/2000/svg\" xmlns:xlink=\"http://www.w3.org/1999/xlink\">\n<g class=\"graph\" id=\"graph0\" transform=\"scale(.5275 .5275) rotate(0) translate(4 815)\">\n<title>G</title>\n<polygon fill=\"#ffffff\" points=\"-4,4 -4,-815 324,-815 324,4 -4,4\" stroke=\"transparent\"/>\n<g class=\"cluster\" id=\"clust1\">\n<title>cluster_1</title>\n<polygon fill=\"#dddddd\" points=\"8,-8 8,-803 104,-803 104,-8 8,-8\" stroke=\"#000000\"/>\n<text fill=\"#000000\" font-family=\"Times,serif\" font-size=\"14.00\" text-anchor=\"middle\" x=\"56\" y=\"-787.8\">Gene 1</text>\n</g>\n<g class=\"cluster\" id=\"clust2\">\n<title>cluster_2</title>\n<polygon fill=\"#dddddd\" points=\"112,-8 112,-803 208,-803 208,-8 112,-8\" stroke=\"#000000\"/>\n<text fill=\"#000000\" font-family=\"Times,serif\" font-size=\"14.00\" text-anchor=\"middle\" x=\"160\" y=\"-787.8\">Gene 2</text>\n</g>\n<g class=\"cluster\" id=\"clust3\">\n<title>cluster_3</title>\n<polygon fill=\"#dddddd\" points=\"216,-8 216,-803 312,-803 312,-8 216,-8\" stroke=\"#000000\"/>\n<text fill=\"#000000\" font-family=\"Times,serif\" font-size=\"14.00\" text-anchor=\"middle\" x=\"264\" y=\"-787.8\">Gene 3</text>\n</g>\n<!-- Sfat2_1 -->\n<g class=\"node\" id=\"node1\">\n<title>Sfat2_1</title>\n<ellipse cx=\"56\" cy=\"-754\" fill=\"#ffffff\" rx=\"33.5952\" ry=\"18\" stroke=\"#000000\"/>\n<text fill=\"#000000\" font-family=\"Times,serif\" font-size=\"14.00\" text-anchor=\"middle\" x=\"56\" y=\"-750.3\">Sfat2_</text>\n</g>\n<!-- Smat2_1 -->\n<g class=\"node\" id=\"node2\">\n<title>Smat2_1</title>\n<ellipse cx=\"56\" cy=\"-682\" fill=\"#ffffff\" rx=\"38.1938\" ry=\"18\" stroke=\"#000000\"/>\n<text fill=\"#000000\" font-family=\"Times,serif\" font-size=\"14.00\" text-anchor=\"middle\" x=\"56\" y=\"-678.3\">Smat2_</text>\n</g>\n<!-- Sfat2_1&#45;&gt;Smat2_1 -->\n<g class=\"edge\" id=\"edge1\">\n<title>Sfat2_1-&gt;Smat2_1</title>\n<path d=\"M56,-735.8314C56,-728.131 56,-718.9743 56,-710.4166\" fill=\"none\" stroke=\"#0000ff\"/>\n<polygon fill=\"#0000ff\" points=\"59.5001,-710.4132 56,-700.4133 52.5001,-710.4133 59.5001,-710.4132\" stroke=\"#0000ff\"/>\n</g>\n<!-- X1_1 -->\n<g class=\"node\" id=\"node3\">\n<title>X1_1</title>\n<ellipse cx=\"56\" cy=\"-610\" fill=\"#ffffff\" rx=\"27\" ry=\"18\" stroke=\"#000000\"/>\n<text fill=\"#000000\" font-family=\"Times,serif\" font-size=\"14.00\" text-anchor=\"middle\" x=\"56\" y=\"-606.3\">X1_</text>\n</g>\n<!-- Smat2_1&#45;&gt;X1_1 -->\n<g class=\"edge\" id=\"edge2\">\n<title>Smat2_1-&gt;X1_1</title>\n<path d=\"M56,-663.8314C56,-656.131 56,-646.9743 56,-638.4166\" fill=\"none\" stroke=\"#0000ff\"/>\n<polygon fill=\"#0000ff\" points=\"59.5001,-638.4132 56,-628.4133 52.5001,-638.4133 59.5001,-638.4132\" stroke=\"#0000ff\"/>\n</g>\n<!-- X2_1 -->\n<g class=\"node\" id=\"node4\">\n<title>X2_1</title>\n<ellipse cx=\"56\" cy=\"-538\" fill=\"#ffffff\" rx=\"27\" ry=\"18\" stroke=\"#000000\"/>\n<text fill=\"#000000\" font-family=\"Times,serif\" font-size=\"14.00\" text-anchor=\"middle\" x=\"56\" y=\"-534.3\">X2_</text>\n</g>\n<!-- X1_1&#45;&gt;X2_1 -->\n<g class=\"edge\" id=\"edge3\">\n<title>X1_1-&gt;X2_1</title>\n<path d=\"M56,-591.8314C56,-584.131 56,-574.9743 56,-566.4166\" fill=\"none\" stroke=\"#0000ff\"/>\n<polygon fill=\"#0000ff\" points=\"59.5001,-566.4132 56,-556.4133 52.5001,-566.4133 59.5001,-566.4132\" stroke=\"#0000ff\"/>\n</g>\n<!-- X3_1 -->\n<g class=\"node\" id=\"node5\">\n<title>X3_1</title>\n<ellipse cx=\"56\" cy=\"-466\" fill=\"#ffffff\" rx=\"27\" ry=\"18\" stroke=\"#000000\"/>\n<text fill=\"#000000\" font-family=\"Times,serif\" font-size=\"14.00\" text-anchor=\"middle\" x=\"56\" y=\"-462.3\">X3_</text>\n</g>\n<!-- X2_1&#45;&gt;X3_1 -->\n<g class=\"edge\" id=\"edge4\">\n<title>X2_1-&gt;X3_1</title>\n<path d=\"M56,-519.8314C56,-512.131 56,-502.9743 56,-494.4166\" fill=\"none\" stroke=\"#0000ff\"/>\n<polygon fill=\"#0000ff\" points=\"59.5001,-494.4132 56,-484.4133 52.5001,-494.4133 59.5001,-494.4132\" stroke=\"#0000ff\"/>\n</g>\n<!-- fatX1_1 -->\n<g class=\"node\" id=\"node6\">\n<title>fatX1_1</title>\n<ellipse cx=\"56\" cy=\"-394\" fill=\"#ffffff\" rx=\"35.194\" ry=\"18\" stroke=\"#000000\"/>\n<text fill=\"#000000\" font-family=\"Times,serif\" font-size=\"14.00\" text-anchor=\"middle\" x=\"56\" y=\"-390.3\">fatX1_</text>\n</g>\n<!-- X3_1&#45;&gt;fatX1_1 -->\n<g class=\"edge\" id=\"edge5\">\n<title>X3_1-&gt;fatX1_1</title>\n<path d=\"M56,-447.8314C56,-440.131 56,-430.9743 56,-422.4166\" fill=\"none\" stroke=\"#0000ff\"/>\n<polygon fill=\"#0000ff\" points=\"59.5001,-422.4132 56,-412.4133 52.5001,-422.4133 59.5001,-422.4132\" stroke=\"#0000ff\"/>\n</g>\n<!-- fatX2_1 -->\n<g class=\"node\" id=\"node7\">\n<title>fatX2_1</title>\n<ellipse cx=\"56\" cy=\"-322\" fill=\"#ffffff\" rx=\"35.194\" ry=\"18\" stroke=\"#000000\"/>\n<text fill=\"#000000\" font-family=\"Times,serif\" font-size=\"14.00\" text-anchor=\"middle\" x=\"56\" y=\"-318.3\">fatX2_</text>\n</g>\n<!-- fatX1_1&#45;&gt;fatX2_1 -->\n<g class=\"edge\" id=\"edge6\">\n<title>fatX1_1-&gt;fatX2_1</title>\n<path d=\"M56,-375.8314C56,-368.131 56,-358.9743 56,-350.4166\" fill=\"none\" stroke=\"#0000ff\"/>\n<polygon fill=\"#0000ff\" points=\"59.5001,-350.4132 56,-340.4133 52.5001,-350.4133 59.5001,-350.4132\" stroke=\"#0000ff\"/>\n</g>\n<!-- fatX3_1 -->\n<g class=\"node\" id=\"node8\">\n<title>fatX3_1</title>\n<ellipse cx=\"56\" cy=\"-250\" fill=\"#ffffff\" rx=\"35.194\" ry=\"18\" stroke=\"#000000\"/>\n<text fill=\"#000000\" font-family=\"Times,serif\" font-size=\"14.00\" text-anchor=\"middle\" x=\"56\" y=\"-246.3\">fatX3_</text>\n</g>\n<!-- fatX2_1&#45;&gt;fatX3_1 -->\n<g class=\"edge\" id=\"edge7\">\n<title>fatX2_1-&gt;fatX3_1</title>\n<path d=\"M56,-303.8314C56,-296.131 56,-286.9743 56,-278.4166\" fill=\"none\" stroke=\"#0000ff\"/>\n<polygon fill=\"#0000ff\" points=\"59.5001,-278.4132 56,-268.4133 52.5001,-278.4133 59.5001,-278.4132\" stroke=\"#0000ff\"/>\n</g>\n<!-- matX1_1 -->\n<g class=\"node\" id=\"node9\">\n<title>matX1_1</title>\n<ellipse cx=\"56\" cy=\"-178\" fill=\"#ffffff\" rx=\"39.7935\" ry=\"18\" stroke=\"#000000\"/>\n<text fill=\"#000000\" font-family=\"Times,serif\" font-size=\"14.00\" text-anchor=\"middle\" x=\"56\" y=\"-174.3\">matX1_</text>\n</g>\n<!-- fatX3_1&#45;&gt;matX1_1 -->\n<g class=\"edge\" id=\"edge8\">\n<title>fatX3_1-&gt;matX1_1</title>\n<path d=\"M56,-231.8314C56,-224.131 56,-214.9743 56,-206.4166\" fill=\"none\" stroke=\"#0000ff\"/>\n<polygon fill=\"#0000ff\" points=\"59.5001,-206.4132 56,-196.4133 52.5001,-206.4133 59.5001,-206.4132\" stroke=\"#0000ff\"/>\n</g>\n<!-- matX2_1 -->\n<g class=\"node\" id=\"node10\">\n<title>matX2_1</title>\n<ellipse cx=\"56\" cy=\"-106\" fill=\"#ffffff\" rx=\"39.7935\" ry=\"18\" stroke=\"#000000\"/>\n<text fill=\"#000000\" font-family=\"Times,serif\" font-size=\"14.00\" text-anchor=\"middle\" x=\"56\" y=\"-102.3\">matX2_</text>\n</g>\n<!-- matX1_1&#45;&gt;matX2_1 -->\n<g class=\"edge\" id=\"edge9\">\n<title>matX1_1-&gt;matX2_1</title>\n<path d=\"M56,-159.8314C56,-152.131 56,-142.9743 56,-134.4166\" fill=\"none\" stroke=\"#0000ff\"/>\n<polygon fill=\"#0000ff\" points=\"59.5001,-134.4132 56,-124.4133 52.5001,-134.4133 59.5001,-134.4132\" stroke=\"#0000ff\"/>\n</g>\n<!-- matX3_1 -->\n<g class=\"node\" id=\"node11\">\n<title>matX3_1</title>\n<ellipse cx=\"56\" cy=\"-34\" fill=\"#ffffff\" rx=\"39.7935\" ry=\"18\" stroke=\"#000000\"/>\n<text fill=\"#000000\" font-family=\"Times,serif\" font-size=\"14.00\" text-anchor=\"middle\" x=\"56\" y=\"-30.3\">matX3_</text>\n</g>\n<!-- matX2_1&#45;&gt;matX3_1 -->\n<g class=\"edge\" id=\"edge10\">\n<title>matX2_1-&gt;matX3_1</title>\n<path d=\"M56,-87.8314C56,-80.131 56,-70.9743 56,-62.4166\" fill=\"none\" stroke=\"#0000ff\"/>\n<polygon fill=\"#0000ff\" points=\"59.5001,-62.4132 56,-52.4133 52.5001,-62.4133 59.5001,-62.4132\" stroke=\"#0000ff\"/>\n</g>\n<!-- Sfat2_2 -->\n<g class=\"node\" id=\"node12\">\n<title>Sfat2_2</title>\n<ellipse cx=\"160\" cy=\"-754\" fill=\"#ffffff\" rx=\"33.5952\" ry=\"18\" stroke=\"#000000\"/>\n<text fill=\"#000000\" font-family=\"Times,serif\" font-size=\"14.00\" text-anchor=\"middle\" x=\"160\" y=\"-750.3\">Sfat2_</text>\n</g>\n<!-- Smat2_2 -->\n<g class=\"node\" id=\"node13\">\n<title>Smat2_2</title>\n<ellipse cx=\"160\" cy=\"-682\" fill=\"#ffffff\" rx=\"38.1938\" ry=\"18\" stroke=\"#000000\"/>\n<text fill=\"#000000\" font-family=\"Times,serif\" font-size=\"14.00\" text-anchor=\"middle\" x=\"160\" y=\"-678.3\">Smat2_</text>\n</g>\n<!-- Sfat2_2&#45;&gt;Smat2_2 -->\n<g class=\"edge\" id=\"edge11\">\n<title>Sfat2_2-&gt;Smat2_2</title>\n<path d=\"M160,-735.8314C160,-728.131 160,-718.9743 160,-710.4166\" fill=\"none\" stroke=\"#0000ff\"/>\n<polygon fill=\"#0000ff\" points=\"163.5001,-710.4132 160,-700.4133 156.5001,-710.4133 163.5001,-710.4132\" stroke=\"#0000ff\"/>\n</g>\n<!-- X1_2 -->\n<g class=\"node\" id=\"node14\">\n<title>X1_2</title>\n<ellipse cx=\"160\" cy=\"-610\" fill=\"#ffffff\" rx=\"27\" ry=\"18\" stroke=\"#000000\"/>\n<text fill=\"#000000\" font-family=\"Times,serif\" font-size=\"14.00\" text-anchor=\"middle\" x=\"160\" y=\"-606.3\">X1_</text>\n</g>\n<!-- Smat2_2&#45;&gt;X1_2 -->\n<g class=\"edge\" id=\"edge12\">\n<title>Smat2_2-&gt;X1_2</title>\n<path d=\"M160,-663.8314C160,-656.131 160,-646.9743 160,-638.4166\" fill=\"none\" stroke=\"#0000ff\"/>\n<polygon fill=\"#0000ff\" points=\"163.5001,-638.4132 160,-628.4133 156.5001,-638.4133 163.5001,-638.4132\" stroke=\"#0000ff\"/>\n</g>\n<!-- X2_2 -->\n<g class=\"node\" id=\"node15\">\n<title>X2_2</title>\n<ellipse cx=\"160\" cy=\"-538\" fill=\"#ffffff\" rx=\"27\" ry=\"18\" stroke=\"#000000\"/>\n<text fill=\"#000000\" font-family=\"Times,serif\" font-size=\"14.00\" text-anchor=\"middle\" x=\"160\" y=\"-534.3\">X2_</text>\n</g>\n<!-- X1_2&#45;&gt;X2_2 -->\n<g class=\"edge\" id=\"edge13\">\n<title>X1_2-&gt;X2_2</title>\n<path d=\"M160,-591.8314C160,-584.131 160,-574.9743 160,-566.4166\" fill=\"none\" stroke=\"#0000ff\"/>\n<polygon fill=\"#0000ff\" points=\"163.5001,-566.4132 160,-556.4133 156.5001,-566.4133 163.5001,-566.4132\" stroke=\"#0000ff\"/>\n</g>\n<!-- X3_2 -->\n<g class=\"node\" id=\"node16\">\n<title>X3_2</title>\n<ellipse cx=\"160\" cy=\"-466\" fill=\"#ffffff\" rx=\"27\" ry=\"18\" stroke=\"#000000\"/>\n<text fill=\"#000000\" font-family=\"Times,serif\" font-size=\"14.00\" text-anchor=\"middle\" x=\"160\" y=\"-462.3\">X3_</text>\n</g>\n<!-- X2_2&#45;&gt;X3_2 -->\n<g class=\"edge\" id=\"edge14\">\n<title>X2_2-&gt;X3_2</title>\n<path d=\"M160,-519.8314C160,-512.131 160,-502.9743 160,-494.4166\" fill=\"none\" stroke=\"#0000ff\"/>\n<polygon fill=\"#0000ff\" points=\"163.5001,-494.4132 160,-484.4133 156.5001,-494.4133 163.5001,-494.4132\" stroke=\"#0000ff\"/>\n</g>\n<!-- fatX1_2 -->\n<g class=\"node\" id=\"node17\">\n<title>fatX1_2</title>\n<ellipse cx=\"160\" cy=\"-394\" fill=\"#ffffff\" rx=\"35.194\" ry=\"18\" stroke=\"#000000\"/>\n<text fill=\"#000000\" font-family=\"Times,serif\" font-size=\"14.00\" text-anchor=\"middle\" x=\"160\" y=\"-390.3\">fatX1_</text>\n</g>\n<!-- X3_2&#45;&gt;fatX1_2 -->\n<g class=\"edge\" id=\"edge15\">\n<title>X3_2-&gt;fatX1_2</title>\n<path d=\"M160,-447.8314C160,-440.131 160,-430.9743 160,-422.4166\" fill=\"none\" stroke=\"#0000ff\"/>\n<polygon fill=\"#0000ff\" points=\"163.5001,-422.4132 160,-412.4133 156.5001,-422.4133 163.5001,-422.4132\" stroke=\"#0000ff\"/>\n</g>\n<!-- fatX2_2 -->\n<g class=\"node\" id=\"node18\">\n<title>fatX2_2</title>\n<ellipse cx=\"160\" cy=\"-322\" fill=\"#ffffff\" rx=\"35.194\" ry=\"18\" stroke=\"#000000\"/>\n<text fill=\"#000000\" font-family=\"Times,serif\" font-size=\"14.00\" text-anchor=\"middle\" x=\"160\" y=\"-318.3\">fatX2_</text>\n</g>\n<!-- fatX1_2&#45;&gt;fatX2_2 -->\n<g class=\"edge\" id=\"edge16\">\n<title>fatX1_2-&gt;fatX2_2</title>\n<path d=\"M160,-375.8314C160,-368.131 160,-358.9743 160,-350.4166\" fill=\"none\" stroke=\"#0000ff\"/>\n<polygon fill=\"#0000ff\" points=\"163.5001,-350.4132 160,-340.4133 156.5001,-350.4133 163.5001,-350.4132\" stroke=\"#0000ff\"/>\n</g>\n<!-- fatX3_2 -->\n<g class=\"node\" id=\"node19\">\n<title>fatX3_2</title>\n<ellipse cx=\"160\" cy=\"-250\" fill=\"#ffffff\" rx=\"35.194\" ry=\"18\" stroke=\"#000000\"/>\n<text fill=\"#000000\" font-family=\"Times,serif\" font-size=\"14.00\" text-anchor=\"middle\" x=\"160\" y=\"-246.3\">fatX3_</text>\n</g>\n<!-- fatX2_2&#45;&gt;fatX3_2 -->\n<g class=\"edge\" id=\"edge17\">\n<title>fatX2_2-&gt;fatX3_2</title>\n<path d=\"M160,-303.8314C160,-296.131 160,-286.9743 160,-278.4166\" fill=\"none\" stroke=\"#0000ff\"/>\n<polygon fill=\"#0000ff\" points=\"163.5001,-278.4132 160,-268.4133 156.5001,-278.4133 163.5001,-278.4132\" stroke=\"#0000ff\"/>\n</g>\n<!-- matX1_2 -->\n<g class=\"node\" id=\"node20\">\n<title>matX1_2</title>\n<ellipse cx=\"160\" cy=\"-178\" fill=\"#ffffff\" rx=\"39.7935\" ry=\"18\" stroke=\"#000000\"/>\n<text fill=\"#000000\" font-family=\"Times,serif\" font-size=\"14.00\" text-anchor=\"middle\" x=\"160\" y=\"-174.3\">matX1_</text>\n</g>\n<!-- fatX3_2&#45;&gt;matX1_2 -->\n<g class=\"edge\" id=\"edge18\">\n<title>fatX3_2-&gt;matX1_2</title>\n<path d=\"M160,-231.8314C160,-224.131 160,-214.9743 160,-206.4166\" fill=\"none\" stroke=\"#0000ff\"/>\n<polygon fill=\"#0000ff\" points=\"163.5001,-206.4132 160,-196.4133 156.5001,-206.4133 163.5001,-206.4132\" stroke=\"#0000ff\"/>\n</g>\n<!-- matX2_2 -->\n<g class=\"node\" id=\"node21\">\n<title>matX2_2</title>\n<ellipse cx=\"160\" cy=\"-106\" fill=\"#ffffff\" rx=\"39.7935\" ry=\"18\" stroke=\"#000000\"/>\n<text fill=\"#000000\" font-family=\"Times,serif\" font-size=\"14.00\" text-anchor=\"middle\" x=\"160\" y=\"-102.3\">matX2_</text>\n</g>\n<!-- matX1_2&#45;&gt;matX2_2 -->\n<g class=\"edge\" id=\"edge19\">\n<title>matX1_2-&gt;matX2_2</title>\n<path d=\"M160,-159.8314C160,-152.131 160,-142.9743 160,-134.4166\" fill=\"none\" stroke=\"#0000ff\"/>\n<polygon fill=\"#0000ff\" points=\"163.5001,-134.4132 160,-124.4133 156.5001,-134.4133 163.5001,-134.4132\" stroke=\"#0000ff\"/>\n</g>\n<!-- matX3_2 -->\n<g class=\"node\" id=\"node22\">\n<title>matX3_2</title>\n<ellipse cx=\"160\" cy=\"-34\" fill=\"#ffffff\" rx=\"39.7935\" ry=\"18\" stroke=\"#000000\"/>\n<text fill=\"#000000\" font-family=\"Times,serif\" font-size=\"14.00\" text-anchor=\"middle\" x=\"160\" y=\"-30.3\">matX3_</text>\n</g>\n<!-- matX2_2&#45;&gt;matX3_2 -->\n<g class=\"edge\" id=\"edge20\">\n<title>matX2_2-&gt;matX3_2</title>\n<path d=\"M160,-87.8314C160,-80.131 160,-70.9743 160,-62.4166\" fill=\"none\" stroke=\"#0000ff\"/>\n<polygon fill=\"#0000ff\" points=\"163.5001,-62.4132 160,-52.4133 156.5001,-62.4133 163.5001,-62.4132\" stroke=\"#0000ff\"/>\n</g>\n<!-- Sfat2_3 -->\n<g class=\"node\" id=\"node23\">\n<title>Sfat2_3</title>\n<ellipse cx=\"264\" cy=\"-754\" fill=\"#ffffff\" rx=\"33.5952\" ry=\"18\" stroke=\"#000000\"/>\n<text fill=\"#000000\" font-family=\"Times,serif\" font-size=\"14.00\" text-anchor=\"middle\" x=\"264\" y=\"-750.3\">Sfat2_</text>\n</g>\n<!-- Smat2_3 -->\n<g class=\"node\" id=\"node24\">\n<title>Smat2_3</title>\n<ellipse cx=\"264\" cy=\"-682\" fill=\"#ffffff\" rx=\"38.1938\" ry=\"18\" stroke=\"#000000\"/>\n<text fill=\"#000000\" font-family=\"Times,serif\" font-size=\"14.00\" text-anchor=\"middle\" x=\"264\" y=\"-678.3\">Smat2_</text>\n</g>\n<!-- Sfat2_3&#45;&gt;Smat2_3 -->\n<g class=\"edge\" id=\"edge21\">\n<title>Sfat2_3-&gt;Smat2_3</title>\n<path d=\"M264,-735.8314C264,-728.131 264,-718.9743 264,-710.4166\" fill=\"none\" stroke=\"#0000ff\"/>\n<polygon fill=\"#0000ff\" points=\"267.5001,-710.4132 264,-700.4133 260.5001,-710.4133 267.5001,-710.4132\" stroke=\"#0000ff\"/>\n</g>\n<!-- X1_3 -->\n<g class=\"node\" id=\"node25\">\n<title>X1_3</title>\n<ellipse cx=\"264\" cy=\"-610\" fill=\"#ffffff\" rx=\"27\" ry=\"18\" stroke=\"#000000\"/>\n<text fill=\"#000000\" font-family=\"Times,serif\" font-size=\"14.00\" text-anchor=\"middle\" x=\"264\" y=\"-606.3\">X1_</text>\n</g>\n<!-- Smat2_3&#45;&gt;X1_3 -->\n<g class=\"edge\" id=\"edge22\">\n<title>Smat2_3-&gt;X1_3</title>\n<path d=\"M264,-663.8314C264,-656.131 264,-646.9743 264,-638.4166\" fill=\"none\" stroke=\"#0000ff\"/>\n<polygon fill=\"#0000ff\" points=\"267.5001,-638.4132 264,-628.4133 260.5001,-638.4133 267.5001,-638.4132\" stroke=\"#0000ff\"/>\n</g>\n<!-- X2_3 -->\n<g class=\"node\" id=\"node26\">\n<title>X2_3</title>\n<ellipse cx=\"264\" cy=\"-538\" fill=\"#ffffff\" rx=\"27\" ry=\"18\" stroke=\"#000000\"/>\n<text fill=\"#000000\" font-family=\"Times,serif\" font-size=\"14.00\" text-anchor=\"middle\" x=\"264\" y=\"-534.3\">X2_</text>\n</g>\n<!-- X1_3&#45;&gt;X2_3 -->\n<g class=\"edge\" id=\"edge23\">\n<title>X1_3-&gt;X2_3</title>\n<path d=\"M264,-591.8314C264,-584.131 264,-574.9743 264,-566.4166\" fill=\"none\" stroke=\"#0000ff\"/>\n<polygon fill=\"#0000ff\" points=\"267.5001,-566.4132 264,-556.4133 260.5001,-566.4133 267.5001,-566.4132\" stroke=\"#0000ff\"/>\n</g>\n<!-- X3_3 -->\n<g class=\"node\" id=\"node27\">\n<title>X3_3</title>\n<ellipse cx=\"264\" cy=\"-466\" fill=\"#ffffff\" rx=\"27\" ry=\"18\" stroke=\"#000000\"/>\n<text fill=\"#000000\" font-family=\"Times,serif\" font-size=\"14.00\" text-anchor=\"middle\" x=\"264\" y=\"-462.3\">X3_</text>\n</g>\n<!-- X2_3&#45;&gt;X3_3 -->\n<g class=\"edge\" id=\"edge24\">\n<title>X2_3-&gt;X3_3</title>\n<path d=\"M264,-519.8314C264,-512.131 264,-502.9743 264,-494.4166\" fill=\"none\" stroke=\"#0000ff\"/>\n<polygon fill=\"#0000ff\" points=\"267.5001,-494.4132 264,-484.4133 260.5001,-494.4133 267.5001,-494.4132\" stroke=\"#0000ff\"/>\n</g>\n<!-- fatX1_3 -->\n<g class=\"node\" id=\"node28\">\n<title>fatX1_3</title>\n<ellipse cx=\"264\" cy=\"-394\" fill=\"#ffffff\" rx=\"35.194\" ry=\"18\" stroke=\"#000000\"/>\n<text fill=\"#000000\" font-family=\"Times,serif\" font-size=\"14.00\" text-anchor=\"middle\" x=\"264\" y=\"-390.3\">fatX1_</text>\n</g>\n<!-- X3_3&#45;&gt;fatX1_3 -->\n<g class=\"edge\" id=\"edge25\">\n<title>X3_3-&gt;fatX1_3</title>\n<path d=\"M264,-447.8314C264,-440.131 264,-430.9743 264,-422.4166\" fill=\"none\" stroke=\"#0000ff\"/>\n<polygon fill=\"#0000ff\" points=\"267.5001,-422.4132 264,-412.4133 260.5001,-422.4133 267.5001,-422.4132\" stroke=\"#0000ff\"/>\n</g>\n<!-- fatX2_3 -->\n<g class=\"node\" id=\"node29\">\n<title>fatX2_3</title>\n<ellipse cx=\"264\" cy=\"-322\" fill=\"#ffffff\" rx=\"35.194\" ry=\"18\" stroke=\"#000000\"/>\n<text fill=\"#000000\" font-family=\"Times,serif\" font-size=\"14.00\" text-anchor=\"middle\" x=\"264\" y=\"-318.3\">fatX2_</text>\n</g>\n<!-- fatX1_3&#45;&gt;fatX2_3 -->\n<g class=\"edge\" id=\"edge26\">\n<title>fatX1_3-&gt;fatX2_3</title>\n<path d=\"M264,-375.8314C264,-368.131 264,-358.9743 264,-350.4166\" fill=\"none\" stroke=\"#0000ff\"/>\n<polygon fill=\"#0000ff\" points=\"267.5001,-350.4132 264,-340.4133 260.5001,-350.4133 267.5001,-350.4132\" stroke=\"#0000ff\"/>\n</g>\n<!-- fatX3_3 -->\n<g class=\"node\" id=\"node30\">\n<title>fatX3_3</title>\n<ellipse cx=\"264\" cy=\"-250\" fill=\"#ffffff\" rx=\"35.194\" ry=\"18\" stroke=\"#000000\"/>\n<text fill=\"#000000\" font-family=\"Times,serif\" font-size=\"14.00\" text-anchor=\"middle\" x=\"264\" y=\"-246.3\">fatX3_</text>\n</g>\n<!-- fatX2_3&#45;&gt;fatX3_3 -->\n<g class=\"edge\" id=\"edge27\">\n<title>fatX2_3-&gt;fatX3_3</title>\n<path d=\"M264,-303.8314C264,-296.131 264,-286.9743 264,-278.4166\" fill=\"none\" stroke=\"#0000ff\"/>\n<polygon fill=\"#0000ff\" points=\"267.5001,-278.4132 264,-268.4133 260.5001,-278.4133 267.5001,-278.4132\" stroke=\"#0000ff\"/>\n</g>\n<!-- matX1_3 -->\n<g class=\"node\" id=\"node31\">\n<title>matX1_3</title>\n<ellipse cx=\"264\" cy=\"-178\" fill=\"#ffffff\" rx=\"39.7935\" ry=\"18\" stroke=\"#000000\"/>\n<text fill=\"#000000\" font-family=\"Times,serif\" font-size=\"14.00\" text-anchor=\"middle\" x=\"264\" y=\"-174.3\">matX1_</text>\n</g>\n<!-- fatX3_3&#45;&gt;matX1_3 -->\n<g class=\"edge\" id=\"edge28\">\n<title>fatX3_3-&gt;matX1_3</title>\n<path d=\"M264,-231.8314C264,-224.131 264,-214.9743 264,-206.4166\" fill=\"none\" stroke=\"#0000ff\"/>\n<polygon fill=\"#0000ff\" points=\"267.5001,-206.4132 264,-196.4133 260.5001,-206.4133 267.5001,-206.4132\" stroke=\"#0000ff\"/>\n</g>\n<!-- matX2_3 -->\n<g class=\"node\" id=\"node32\">\n<title>matX2_3</title>\n<ellipse cx=\"264\" cy=\"-106\" fill=\"#ffffff\" rx=\"39.7935\" ry=\"18\" stroke=\"#000000\"/>\n<text fill=\"#000000\" font-family=\"Times,serif\" font-size=\"14.00\" text-anchor=\"middle\" x=\"264\" y=\"-102.3\">matX2_</text>\n</g>\n<!-- matX1_3&#45;&gt;matX2_3 -->\n<g class=\"edge\" id=\"edge29\">\n<title>matX1_3-&gt;matX2_3</title>\n<path d=\"M264,-159.8314C264,-152.131 264,-142.9743 264,-134.4166\" fill=\"none\" stroke=\"#0000ff\"/>\n<polygon fill=\"#0000ff\" points=\"267.5001,-134.4132 264,-124.4133 260.5001,-134.4133 267.5001,-134.4132\" stroke=\"#0000ff\"/>\n</g>\n<!-- matX3_3 -->\n<g class=\"node\" id=\"node33\">\n<title>matX3_3</title>\n<ellipse cx=\"264\" cy=\"-34\" fill=\"#ffffff\" rx=\"39.7935\" ry=\"18\" stroke=\"#000000\"/>\n<text fill=\"#000000\" font-family=\"Times,serif\" font-size=\"14.00\" text-anchor=\"middle\" x=\"264\" y=\"-30.3\">matX3_</text>\n</g>\n<!-- matX2_3&#45;&gt;matX3_3 -->\n<g class=\"edge\" id=\"edge30\">\n<title>matX2_3-&gt;matX3_3</title>\n<path d=\"M264,-87.8314C264,-80.131 264,-70.9743 264,-62.4166\" fill=\"none\" stroke=\"#0000ff\"/>\n<polygon fill=\"#0000ff\" points=\"267.5001,-62.4132 264,-52.4133 260.5001,-62.4133 267.5001,-62.4132\" stroke=\"#0000ff\"/>\n</g>\n</g>\n</svg>"
     },
     "metadata": {},
     "output_type": "display_data"
    }
   ],
   "source": [
    "pview.graph_multi(bn,6)"
   ],
   "metadata": {
    "collapsed": false,
    "pycharm": {
     "name": "#%%\n",
     "is_executing": false
    }
   }
  },
  {
   "cell_type": "code",
   "execution_count": 7,
   "outputs": [],
   "source": [
    "\n"
   ],
   "metadata": {
    "collapsed": false,
    "pycharm": {
     "name": "#%%\n",
     "is_executing": false
    }
   }
  }
 ],
 "metadata": {
  "kernelspec": {
   "name": "pycharm-483525a4",
   "language": "python",
   "display_name": "PyCharm (bped2)"
  },
  "language_info": {
   "codemirror_mode": {
    "name": "ipython",
    "version": 2
   },
   "file_extension": ".py",
   "mimetype": "text/x-python",
   "name": "python",
   "nbconvert_exporter": "python",
   "pygments_lexer": "ipython2",
   "version": "2.7.6"
  },
  "pycharm": {
   "stem_cell": {
    "cell_type": "raw",
    "source": [],
    "metadata": {
     "collapsed": false
    }
   }
  }
 },
 "nbformat": 4,
 "nbformat_minor": 0
}