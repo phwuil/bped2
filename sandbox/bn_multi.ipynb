{
 "cells": [
  {
   "cell_type": "code",
   "execution_count": 1,
   "metadata": {
    "collapsed": true,
    "pycharm": {
     "is_executing": false
    }
   },
   "outputs": [],
   "source": [
    "from  bped2.pedigree import Pedigree\n",
    "import bped2.view as pview"
   ]
  },
  {
   "cell_type": "code",
   "execution_count": 2,
   "outputs": [
    {
     "data": {
      "text/plain": "<bped2.pedigree.Pedigree at 0x7f02f01a4e48>"
     },
     "metadata": {},
     "output_type": "execute_result",
     "execution_count": 2
    }
   ],
   "source": [
    "ped = Pedigree()\n",
    "ped.gen_ped('multi',3,2,4,2)\n",
    "ped"
   ],
   "metadata": {
    "collapsed": false,
    "pycharm": {
     "name": "#%%\n",
     "is_executing": false
    }
   }
  },
  {
   "cell_type": "code",
   "execution_count": 4,
   "outputs": [
    {
     "data": {
      "text/plain": "<IPython.core.display.SVG object>",
      "image/svg+xml": "<svg height=\"260pt\" viewBox=\"0.00 0.00 994.89 260.00\" width=\"995pt\" xmlns=\"http://www.w3.org/2000/svg\" xmlns:xlink=\"http://www.w3.org/1999/xlink\">\n<g class=\"graph\" id=\"graph0\" transform=\"scale(1 1) rotate(0) translate(4 256)\">\n<title>G</title>\n<!-- matX1_1 -->\n<g class=\"node\" id=\"node1\">\n<title>matX1_1</title>\n<g id=\"a_node1\"><a xlink:title=\"(0) matX1_1\">\n<ellipse cx=\"141.6465\" cy=\"-234\" fill=\"#404040\" rx=\"44.393\" ry=\"18\" stroke=\"#000000\"/>\n<text fill=\"#ffffff\" font-family=\"Times,serif\" font-size=\"14.00\" text-anchor=\"middle\" x=\"141.6465\" y=\"-230.3\">matX1_1</text>\n</a>\n</g>\n</g>\n<!-- X1_1 -->\n<g class=\"node\" id=\"node3\">\n<title>X1_1</title>\n<g id=\"a_node3\"><a xlink:title=\"(2) X1_1\">\n<ellipse cx=\"48.6465\" cy=\"-162\" fill=\"#404040\" rx=\"30.5947\" ry=\"18\" stroke=\"#000000\"/>\n<text fill=\"#ffffff\" font-family=\"Times,serif\" font-size=\"14.00\" text-anchor=\"middle\" x=\"48.6465\" y=\"-158.3\">X1_1</text>\n</a>\n</g>\n</g>\n<!-- matX1_1&#45;&gt;X1_1 -->\n<g class=\"edge\" id=\"edge26\">\n<title>matX1_1-&gt;X1_1</title>\n<g id=\"a_edge26\"><a xlink:title=\"(0, 2) : \">\n<path d=\"M121.0068,-218.0209C107.5868,-207.6312 89.9532,-193.9794 75.4533,-182.7536\" fill=\"none\" stroke=\"#4a4a4a\"/>\n<polygon fill=\"#4a4a4a\" points=\"77.3835,-179.8217 67.3336,-176.4674 73.0982,-185.3568 77.3835,-179.8217\" stroke=\"#4a4a4a\"/>\n</a>\n</g>\n</g>\n<!-- fatX2_1 -->\n<g class=\"node\" id=\"node5\">\n<title>fatX2_1</title>\n<g id=\"a_node5\"><a xlink:title=\"(4) fatX2_1\">\n<ellipse cx=\"143.6465\" cy=\"-162\" fill=\"#404040\" rx=\"39.7935\" ry=\"18\" stroke=\"#000000\"/>\n<text fill=\"#ffffff\" font-family=\"Times,serif\" font-size=\"14.00\" text-anchor=\"middle\" x=\"143.6465\" y=\"-158.3\">fatX2_1</text>\n</a>\n</g>\n</g>\n<!-- matX1_1&#45;&gt;fatX2_1 -->\n<g class=\"edge\" id=\"edge11\">\n<title>matX1_1-&gt;fatX2_1</title>\n<g id=\"a_edge11\"><a xlink:title=\"(0, 4) : \">\n<path d=\"M142.1512,-215.8314C142.3651,-208.131 142.6194,-198.9743 142.8571,-190.4166\" fill=\"none\" stroke=\"#4a4a4a\"/>\n<polygon fill=\"#4a4a4a\" points=\"146.3559,-190.5066 143.135,-180.4133 139.3586,-190.3122 146.3559,-190.5066\" stroke=\"#4a4a4a\"/>\n</a>\n</g>\n</g>\n<!-- fatX1_1 -->\n<g class=\"node\" id=\"node2\">\n<title>fatX1_1</title>\n<g id=\"a_node2\"><a xlink:title=\"(1) fatX1_1\">\n<ellipse cx=\"39.6465\" cy=\"-234\" fill=\"#404040\" rx=\"39.7935\" ry=\"18\" stroke=\"#000000\"/>\n<text fill=\"#ffffff\" font-family=\"Times,serif\" font-size=\"14.00\" text-anchor=\"middle\" x=\"39.6465\" y=\"-230.3\">fatX1_1</text>\n</a>\n</g>\n</g>\n<!-- fatX1_1&#45;&gt;X1_1 -->\n<g class=\"edge\" id=\"edge8\">\n<title>fatX1_1-&gt;X1_1</title>\n<g id=\"a_edge8\"><a xlink:title=\"(1, 2) : \">\n<path d=\"M41.9176,-215.8314C42.8801,-208.131 44.0247,-198.9743 45.0944,-190.4166\" fill=\"none\" stroke=\"#4a4a4a\"/>\n<polygon fill=\"#4a4a4a\" points=\"48.5774,-190.7702 46.3448,-180.4133 41.6314,-189.9019 48.5774,-190.7702\" stroke=\"#4a4a4a\"/>\n</a>\n</g>\n</g>\n<!-- fatX1_1&#45;&gt;fatX2_1 -->\n<g class=\"edge\" id=\"edge17\">\n<title>fatX1_1-&gt;fatX2_1</title>\n<g id=\"a_edge17\"><a xlink:title=\"(1, 4) : \">\n<path d=\"M61.4483,-218.9064C76.5633,-208.4422 96.8876,-194.3715 113.5443,-182.84\" fill=\"none\" stroke=\"#4a4a4a\"/>\n<polygon fill=\"#4a4a4a\" points=\"115.6437,-185.6435 121.8734,-177.0737 111.6592,-179.8882 115.6437,-185.6435\" stroke=\"#4a4a4a\"/>\n</a>\n</g>\n</g>\n<!-- matX2_1 -->\n<g class=\"node\" id=\"node4\">\n<title>matX2_1</title>\n<g id=\"a_node4\"><a xlink:title=\"(3) matX2_1\">\n<ellipse cx=\"432.6465\" cy=\"-162\" fill=\"#404040\" rx=\"44.393\" ry=\"18\" stroke=\"#000000\"/>\n<text fill=\"#ffffff\" font-family=\"Times,serif\" font-size=\"14.00\" text-anchor=\"middle\" x=\"432.6465\" y=\"-158.3\">matX2_1</text>\n</a>\n</g>\n</g>\n<!-- X2_1 -->\n<g class=\"node\" id=\"node6\">\n<title>X2_1</title>\n<g id=\"a_node6\"><a xlink:title=\"(5) X2_1\">\n<ellipse cx=\"288.6465\" cy=\"-90\" fill=\"#404040\" rx=\"30.5947\" ry=\"18\" stroke=\"#000000\"/>\n<text fill=\"#ffffff\" font-family=\"Times,serif\" font-size=\"14.00\" text-anchor=\"middle\" x=\"288.6465\" y=\"-86.3\">X2_1</text>\n</a>\n</g>\n</g>\n<!-- matX2_1&#45;&gt;X2_1 -->\n<g class=\"edge\" id=\"edge18\">\n<title>matX2_1-&gt;X2_1</title>\n<g id=\"a_edge18\"><a xlink:title=\"(3, 5) : \">\n<path d=\"M404.54,-147.9468C380.7348,-136.0441 346.5777,-118.9656 321.5112,-106.4324\" fill=\"none\" stroke=\"#4a4a4a\"/>\n<polygon fill=\"#4a4a4a\" points=\"322.8994,-103.2134 312.3898,-101.8717 319.7689,-109.4744 322.8994,-103.2134\" stroke=\"#4a4a4a\"/>\n</a>\n</g>\n</g>\n<!-- fatX2_1&#45;&gt;X2_1 -->\n<g class=\"edge\" id=\"edge16\">\n<title>fatX2_1-&gt;X2_1</title>\n<g id=\"a_edge16\"><a xlink:title=\"(4, 5) : \">\n<path d=\"M170.58,-148.6261C194.7969,-136.6012 230.4205,-118.9122 256.1988,-106.112\" fill=\"none\" stroke=\"#4a4a4a\"/>\n<polygon fill=\"#4a4a4a\" points=\"257.8113,-109.2191 265.2113,-101.6368 254.698,-102.9495 257.8113,-109.2191\" stroke=\"#4a4a4a\"/>\n</a>\n</g>\n</g>\n<!-- matX3_1 -->\n<g class=\"node\" id=\"node7\">\n<title>matX3_1</title>\n<g id=\"a_node7\"><a xlink:title=\"(6) matX3_1\">\n<ellipse cx=\"343.6465\" cy=\"-234\" fill=\"#404040\" rx=\"44.393\" ry=\"18\" stroke=\"#000000\"/>\n<text fill=\"#ffffff\" font-family=\"Times,serif\" font-size=\"14.00\" text-anchor=\"middle\" x=\"343.6465\" y=\"-230.3\">matX3_1</text>\n</a>\n</g>\n</g>\n<!-- matX3_1&#45;&gt;matX2_1 -->\n<g class=\"edge\" id=\"edge10\">\n<title>matX3_1-&gt;matX2_1</title>\n<g id=\"a_edge10\"><a xlink:title=\"(6, 3) : \">\n<path d=\"M363.842,-217.6621C375.9039,-207.9041 391.4025,-195.3659 404.6354,-184.6607\" fill=\"none\" stroke=\"#4a4a4a\"/>\n<polygon fill=\"#4a4a4a\" points=\"406.9577,-187.2838 412.5309,-178.2733 402.5551,-181.8417 406.9577,-187.2838\" stroke=\"#4a4a4a\"/>\n</a>\n</g>\n</g>\n<!-- X3_1 -->\n<g class=\"node\" id=\"node9\">\n<title>X3_1</title>\n<g id=\"a_node9\"><a xlink:title=\"(8) X3_1\">\n<ellipse cx=\"339.6465\" cy=\"-162\" fill=\"#404040\" rx=\"30.5947\" ry=\"18\" stroke=\"#000000\"/>\n<text fill=\"#ffffff\" font-family=\"Times,serif\" font-size=\"14.00\" text-anchor=\"middle\" x=\"339.6465\" y=\"-158.3\">X3_1</text>\n</a>\n</g>\n</g>\n<!-- matX3_1&#45;&gt;X3_1 -->\n<g class=\"edge\" id=\"edge21\">\n<title>matX3_1-&gt;X3_1</title>\n<g id=\"a_edge21\"><a xlink:title=\"(6, 8) : \">\n<path d=\"M342.6371,-215.8314C342.2093,-208.131 341.7006,-198.9743 341.2252,-190.4166\" fill=\"none\" stroke=\"#4a4a4a\"/>\n<polygon fill=\"#4a4a4a\" points=\"344.7188,-190.2037 340.6694,-180.4133 337.7296,-190.592 344.7188,-190.2037\" stroke=\"#4a4a4a\"/>\n</a>\n</g>\n</g>\n<!-- fatX3_1 -->\n<g class=\"node\" id=\"node8\">\n<title>fatX3_1</title>\n<g id=\"a_node8\"><a xlink:title=\"(7) fatX3_1\">\n<ellipse cx=\"445.6465\" cy=\"-234\" fill=\"#404040\" rx=\"39.7935\" ry=\"18\" stroke=\"#000000\"/>\n<text fill=\"#ffffff\" font-family=\"Times,serif\" font-size=\"14.00\" text-anchor=\"middle\" x=\"445.6465\" y=\"-230.3\">fatX3_1</text>\n</a>\n</g>\n</g>\n<!-- fatX3_1&#45;&gt;matX2_1 -->\n<g class=\"edge\" id=\"edge2\">\n<title>fatX3_1-&gt;matX2_1</title>\n<g id=\"a_edge2\"><a xlink:title=\"(7, 3) : \">\n<path d=\"M442.366,-215.8314C440.9757,-208.131 439.3224,-198.9743 437.7773,-190.4166\" fill=\"none\" stroke=\"#4a4a4a\"/>\n<polygon fill=\"#4a4a4a\" points=\"441.1923,-189.6322 435.9711,-180.4133 434.3037,-190.8761 441.1923,-189.6322\" stroke=\"#4a4a4a\"/>\n</a>\n</g>\n</g>\n<!-- fatX3_1&#45;&gt;X3_1 -->\n<g class=\"edge\" id=\"edge25\">\n<title>fatX3_1-&gt;X3_1</title>\n<g id=\"a_edge25\"><a xlink:title=\"(7, 8) : \">\n<path d=\"M423.4254,-218.9064C407.3994,-208.0208 385.6276,-193.2325 368.2954,-181.4596\" fill=\"none\" stroke=\"#4a4a4a\"/>\n<polygon fill=\"#4a4a4a\" points=\"369.9292,-178.3383 359.6904,-175.6147 365.996,-184.1289 369.9292,-178.3383\" stroke=\"#4a4a4a\"/>\n</a>\n</g>\n</g>\n<!-- Sfat2_1 -->\n<g class=\"node\" id=\"node10\">\n<title>Sfat2_1</title>\n<g id=\"a_node10\"><a xlink:title=\"(9) Sfat2_1\">\n<ellipse cx=\"242.6465\" cy=\"-234\" fill=\"#404040\" rx=\"38.1938\" ry=\"18\" stroke=\"#000000\"/>\n<text fill=\"#ffffff\" font-family=\"Times,serif\" font-size=\"14.00\" text-anchor=\"middle\" x=\"242.6465\" y=\"-230.3\">Sfat2_1</text>\n</a>\n</g>\n</g>\n<!-- Sfat2_1&#45;&gt;fatX2_1 -->\n<g class=\"edge\" id=\"edge6\">\n<title>Sfat2_1-&gt;fatX2_1</title>\n<g id=\"a_edge6\"><a xlink:title=\"(9, 4) : \">\n<path d=\"M221.6511,-218.7307C207.5714,-208.4908 188.8242,-194.8565 173.2374,-183.5206\" fill=\"none\" stroke=\"#4a4a4a\"/>\n<polygon fill=\"#4a4a4a\" points=\"175.0989,-180.5467 164.9529,-177.4956 170.9816,-186.2079 175.0989,-180.5467\" stroke=\"#4a4a4a\"/>\n</a>\n</g>\n</g>\n<!-- Sfat2_2 -->\n<g class=\"node\" id=\"node21\">\n<title>Sfat2_2</title>\n<g id=\"a_node21\"><a xlink:title=\"(20) Sfat2_2\">\n<ellipse cx=\"245.6465\" cy=\"-162\" fill=\"#404040\" rx=\"38.1938\" ry=\"18\" stroke=\"#000000\"/>\n<text fill=\"#ffffff\" font-family=\"Times,serif\" font-size=\"14.00\" text-anchor=\"middle\" x=\"245.6465\" y=\"-158.3\">Sfat2_2</text>\n</a>\n</g>\n</g>\n<!-- Sfat2_1&#45;&gt;Sfat2_2 -->\n<g class=\"edge\" id=\"edge15\">\n<title>Sfat2_1-&gt;Sfat2_2</title>\n<g id=\"a_edge15\"><a xlink:title=\"(9, 20) : \">\n<path d=\"M243.4035,-215.8314C243.7244,-208.131 244.1059,-198.9743 244.4625,-190.4166\" fill=\"none\" stroke=\"#4a4a4a\"/>\n<polygon fill=\"#4a4a4a\" points=\"247.9598,-190.5503 244.8793,-180.4133 240.9659,-190.2589 247.9598,-190.5503\" stroke=\"#4a4a4a\"/>\n</a>\n</g>\n</g>\n<!-- Smat2_1 -->\n<g class=\"node\" id=\"node11\">\n<title>Smat2_1</title>\n<g id=\"a_node11\"><a xlink:title=\"(10) Smat2_1\">\n<ellipse cx=\"743.6465\" cy=\"-234\" fill=\"#404040\" rx=\"42.4939\" ry=\"18\" stroke=\"#000000\"/>\n<text fill=\"#ffffff\" font-family=\"Times,serif\" font-size=\"14.00\" text-anchor=\"middle\" x=\"743.6465\" y=\"-230.3\">Smat2_1</text>\n</a>\n</g>\n</g>\n<!-- Smat2_1&#45;&gt;matX2_1 -->\n<g class=\"edge\" id=\"edge7\">\n<title>Smat2_1-&gt;matX2_1</title>\n<g id=\"a_edge7\"><a xlink:title=\"(10, 3) : \">\n<path d=\"M704.3945,-227.3135C653.5148,-218.2984 562.2336,-200.9376 485.6465,-180 482.3115,-179.0883 478.8799,-178.0823 475.4428,-177.0259\" fill=\"none\" stroke=\"#4a4a4a\"/>\n<polygon fill=\"#4a4a4a\" points=\"476.4086,-173.6603 465.8178,-173.9515 474.2787,-180.3284 476.4086,-173.6603\" stroke=\"#4a4a4a\"/>\n</a>\n</g>\n</g>\n<!-- Smat2_2 -->\n<g class=\"node\" id=\"node22\">\n<title>Smat2_2</title>\n<g id=\"a_node22\"><a xlink:title=\"(21) Smat2_2\">\n<ellipse cx=\"944.6465\" cy=\"-162\" fill=\"#404040\" rx=\"42.4939\" ry=\"18\" stroke=\"#000000\"/>\n<text fill=\"#ffffff\" font-family=\"Times,serif\" font-size=\"14.00\" text-anchor=\"middle\" x=\"944.6465\" y=\"-158.3\">Smat2_2</text>\n</a>\n</g>\n</g>\n<!-- Smat2_1&#45;&gt;Smat2_2 -->\n<g class=\"edge\" id=\"edge4\">\n<title>Smat2_1-&gt;Smat2_2</title>\n<g id=\"a_edge4\"><a xlink:title=\"(10, 21) : \">\n<path d=\"M776.388,-222.2717C810.8012,-209.9446 865.0548,-190.5104 902.6102,-177.0578\" fill=\"none\" stroke=\"#4a4a4a\"/>\n<polygon fill=\"#4a4a4a\" points=\"904.0181,-180.2713 912.2521,-173.604 901.6575,-173.6813 904.0181,-180.2713\" stroke=\"#4a4a4a\"/>\n</a>\n</g>\n</g>\n<!-- matX1_2 -->\n<g class=\"node\" id=\"node12\">\n<title>matX1_2</title>\n<g id=\"a_node12\"><a xlink:title=\"(11) matX1_2\">\n<ellipse cx=\"636.6465\" cy=\"-162\" fill=\"#404040\" rx=\"44.393\" ry=\"18\" stroke=\"#000000\"/>\n<text fill=\"#ffffff\" font-family=\"Times,serif\" font-size=\"14.00\" text-anchor=\"middle\" x=\"636.6465\" y=\"-158.3\">matX1_2</text>\n</a>\n</g>\n</g>\n<!-- X1_2 -->\n<g class=\"node\" id=\"node14\">\n<title>X1_2</title>\n<g id=\"a_node14\"><a xlink:title=\"(13) X1_2\">\n<ellipse cx=\"629.6465\" cy=\"-90\" fill=\"#404040\" rx=\"30.5947\" ry=\"18\" stroke=\"#000000\"/>\n<text fill=\"#ffffff\" font-family=\"Times,serif\" font-size=\"14.00\" text-anchor=\"middle\" x=\"629.6465\" y=\"-86.3\">X1_2</text>\n</a>\n</g>\n</g>\n<!-- matX1_2&#45;&gt;X1_2 -->\n<g class=\"edge\" id=\"edge13\">\n<title>matX1_2-&gt;X1_2</title>\n<g id=\"a_edge13\"><a xlink:title=\"(11, 13) : \">\n<path d=\"M634.8801,-143.8314C634.1314,-136.131 633.2412,-126.9743 632.4092,-118.4166\" fill=\"none\" stroke=\"#4a4a4a\"/>\n<polygon fill=\"#4a4a4a\" points=\"635.888,-118.0276 631.4367,-108.4133 628.9208,-118.7051 635.888,-118.0276\" stroke=\"#4a4a4a\"/>\n</a>\n</g>\n</g>\n<!-- fatX2_2 -->\n<g class=\"node\" id=\"node16\">\n<title>fatX2_2</title>\n<g id=\"a_node16\"><a xlink:title=\"(15) fatX2_2\">\n<ellipse cx=\"537.6465\" cy=\"-90\" fill=\"#404040\" rx=\"39.7935\" ry=\"18\" stroke=\"#000000\"/>\n<text fill=\"#ffffff\" font-family=\"Times,serif\" font-size=\"14.00\" text-anchor=\"middle\" x=\"537.6465\" y=\"-86.3\">fatX2_2</text>\n</a>\n</g>\n</g>\n<!-- matX1_2&#45;&gt;fatX2_2 -->\n<g class=\"edge\" id=\"edge23\">\n<title>matX1_2-&gt;fatX2_2</title>\n<g id=\"a_edge23\"><a xlink:title=\"(11, 15) : \">\n<path d=\"M614.6752,-146.0209C600.6404,-135.8137 582.2763,-122.4581 566.9994,-111.3476\" fill=\"none\" stroke=\"#4a4a4a\"/>\n<polygon fill=\"#4a4a4a\" points=\"569.0229,-108.4915 558.8769,-105.4403 564.9056,-114.1526 569.0229,-108.4915\" stroke=\"#4a4a4a\"/>\n</a>\n</g>\n</g>\n<!-- fatX1_2 -->\n<g class=\"node\" id=\"node13\">\n<title>fatX1_2</title>\n<g id=\"a_node13\"><a xlink:title=\"(12) fatX1_2\">\n<ellipse cx=\"534.6465\" cy=\"-162\" fill=\"#404040\" rx=\"39.7935\" ry=\"18\" stroke=\"#000000\"/>\n<text fill=\"#ffffff\" font-family=\"Times,serif\" font-size=\"14.00\" text-anchor=\"middle\" x=\"534.6465\" y=\"-158.3\">fatX1_2</text>\n</a>\n</g>\n</g>\n<!-- fatX1_2&#45;&gt;X1_2 -->\n<g class=\"edge\" id=\"edge9\">\n<title>fatX1_2-&gt;X1_2</title>\n<g id=\"a_edge9\"><a xlink:title=\"(12, 13) : \">\n<path d=\"M555.2601,-146.3771C569.0366,-135.9359 587.3124,-122.0848 602.3011,-110.7249\" fill=\"none\" stroke=\"#4a4a4a\"/>\n<polygon fill=\"#4a4a4a\" points=\"604.8319,-113.1985 610.6875,-104.3689 600.6037,-107.6197 604.8319,-113.1985\" stroke=\"#4a4a4a\"/>\n</a>\n</g>\n</g>\n<!-- fatX1_2&#45;&gt;fatX2_2 -->\n<g class=\"edge\" id=\"edge19\">\n<title>fatX1_2-&gt;fatX2_2</title>\n<g id=\"a_edge19\"><a xlink:title=\"(12, 15) : \">\n<path d=\"M535.4035,-143.8314C535.7244,-136.131 536.1059,-126.9743 536.4625,-118.4166\" fill=\"none\" stroke=\"#4a4a4a\"/>\n<polygon fill=\"#4a4a4a\" points=\"539.9598,-118.5503 536.8793,-108.4133 532.9659,-118.2589 539.9598,-118.5503\" stroke=\"#4a4a4a\"/>\n</a>\n</g>\n</g>\n<!-- matX2_2 -->\n<g class=\"node\" id=\"node15\">\n<title>matX2_2</title>\n<g id=\"a_node15\"><a xlink:title=\"(14) matX2_2\">\n<ellipse cx=\"841.6465\" cy=\"-90\" fill=\"#404040\" rx=\"44.393\" ry=\"18\" stroke=\"#000000\"/>\n<text fill=\"#ffffff\" font-family=\"Times,serif\" font-size=\"14.00\" text-anchor=\"middle\" x=\"841.6465\" y=\"-86.3\">matX2_2</text>\n</a>\n</g>\n</g>\n<!-- X2_2 -->\n<g class=\"node\" id=\"node17\">\n<title>X2_2</title>\n<g id=\"a_node17\"><a xlink:title=\"(16) X2_2\">\n<ellipse cx=\"687.6465\" cy=\"-18\" fill=\"#404040\" rx=\"30.5947\" ry=\"18\" stroke=\"#000000\"/>\n<text fill=\"#ffffff\" font-family=\"Times,serif\" font-size=\"14.00\" text-anchor=\"middle\" x=\"687.6465\" y=\"-14.3\">X2_2</text>\n</a>\n</g>\n</g>\n<!-- matX2_2&#45;&gt;X2_2 -->\n<g class=\"edge\" id=\"edge20\">\n<title>matX2_2-&gt;X2_2</title>\n<g id=\"a_edge20\"><a xlink:title=\"(14, 16) : \">\n<path d=\"M812.3178,-76.2879C786.2441,-64.0976 748.1474,-46.2861 720.9382,-33.5649\" fill=\"none\" stroke=\"#4a4a4a\"/>\n<polygon fill=\"#4a4a4a\" points=\"722.3468,-30.3599 711.8055,-29.2951 719.382,-36.7011 722.3468,-30.3599\" stroke=\"#4a4a4a\"/>\n</a>\n</g>\n</g>\n<!-- fatX2_2&#45;&gt;X2_2 -->\n<g class=\"edge\" id=\"edge3\">\n<title>fatX2_2-&gt;X2_2</title>\n<g id=\"a_edge3\"><a xlink:title=\"(15, 16) : \">\n<path d=\"M565.1588,-76.7941C590.318,-64.7177 627.5887,-46.8277 654.4049,-33.956\" fill=\"none\" stroke=\"#4a4a4a\"/>\n<polygon fill=\"#4a4a4a\" points=\"656.2691,-36.9435 663.7697,-29.4608 653.2399,-30.6329 656.2691,-36.9435\" stroke=\"#4a4a4a\"/>\n</a>\n</g>\n</g>\n<!-- matX3_2 -->\n<g class=\"node\" id=\"node18\">\n<title>matX3_2</title>\n<g id=\"a_node18\"><a xlink:title=\"(17) matX3_2\">\n<ellipse cx=\"742.6465\" cy=\"-162\" fill=\"#404040\" rx=\"44.393\" ry=\"18\" stroke=\"#000000\"/>\n<text fill=\"#ffffff\" font-family=\"Times,serif\" font-size=\"14.00\" text-anchor=\"middle\" x=\"742.6465\" y=\"-158.3\">matX3_2</text>\n</a>\n</g>\n</g>\n<!-- matX3_2&#45;&gt;matX2_2 -->\n<g class=\"edge\" id=\"edge12\">\n<title>matX3_2-&gt;matX2_2</title>\n<g id=\"a_edge12\"><a xlink:title=\"(17, 14) : \">\n<path d=\"M764.6178,-146.0209C778.3322,-136.0468 796.1803,-123.0663 811.2425,-112.112\" fill=\"none\" stroke=\"#4a4a4a\"/>\n<polygon fill=\"#4a4a4a\" points=\"813.7078,-114.6468 819.7366,-105.9345 809.5906,-108.9856 813.7078,-114.6468\" stroke=\"#4a4a4a\"/>\n</a>\n</g>\n</g>\n<!-- X3_2 -->\n<g class=\"node\" id=\"node20\">\n<title>X3_2</title>\n<g id=\"a_node20\"><a xlink:title=\"(19) X3_2\">\n<ellipse cx=\"744.6465\" cy=\"-90\" fill=\"#404040\" rx=\"30.5947\" ry=\"18\" stroke=\"#000000\"/>\n<text fill=\"#ffffff\" font-family=\"Times,serif\" font-size=\"14.00\" text-anchor=\"middle\" x=\"744.6465\" y=\"-86.3\">X3_2</text>\n</a>\n</g>\n</g>\n<!-- matX3_2&#45;&gt;X3_2 -->\n<g class=\"edge\" id=\"edge14\">\n<title>matX3_2-&gt;X3_2</title>\n<g id=\"a_edge14\"><a xlink:title=\"(17, 19) : \">\n<path d=\"M743.1512,-143.8314C743.3651,-136.131 743.6194,-126.9743 743.8571,-118.4166\" fill=\"none\" stroke=\"#4a4a4a\"/>\n<polygon fill=\"#4a4a4a\" points=\"747.3559,-118.5066 744.135,-108.4133 740.3586,-118.3122 747.3559,-118.5066\" stroke=\"#4a4a4a\"/>\n</a>\n</g>\n</g>\n<!-- fatX3_2 -->\n<g class=\"node\" id=\"node19\">\n<title>fatX3_2</title>\n<g id=\"a_node19\"><a xlink:title=\"(18) fatX3_2\">\n<ellipse cx=\"844.6465\" cy=\"-162\" fill=\"#404040\" rx=\"39.7935\" ry=\"18\" stroke=\"#000000\"/>\n<text fill=\"#ffffff\" font-family=\"Times,serif\" font-size=\"14.00\" text-anchor=\"middle\" x=\"844.6465\" y=\"-158.3\">fatX3_2</text>\n</a>\n</g>\n</g>\n<!-- fatX3_2&#45;&gt;matX2_2 -->\n<g class=\"edge\" id=\"edge22\">\n<title>fatX3_2-&gt;matX2_2</title>\n<g id=\"a_edge22\"><a xlink:title=\"(18, 14) : \">\n<path d=\"M843.8895,-143.8314C843.5686,-136.131 843.1871,-126.9743 842.8305,-118.4166\" fill=\"none\" stroke=\"#4a4a4a\"/>\n<polygon fill=\"#4a4a4a\" points=\"846.3271,-118.2589 842.4137,-108.4133 839.3331,-118.5503 846.3271,-118.2589\" stroke=\"#4a4a4a\"/>\n</a>\n</g>\n</g>\n<!-- fatX3_2&#45;&gt;X3_2 -->\n<g class=\"edge\" id=\"edge5\">\n<title>fatX3_2-&gt;X3_2</title>\n<g id=\"a_edge5\"><a xlink:title=\"(18, 19) : \">\n<path d=\"M823.4391,-146.7307C808.6366,-136.0729 788.7269,-121.7379 772.6249,-110.1445\" fill=\"none\" stroke=\"#4a4a4a\"/>\n<polygon fill=\"#4a4a4a\" points=\"774.2882,-107.0292 764.1277,-104.0265 770.198,-112.71 774.2882,-107.0292\" stroke=\"#4a4a4a\"/>\n</a>\n</g>\n</g>\n<!-- Sfat2_2&#45;&gt;fatX2_2 -->\n<g class=\"edge\" id=\"edge24\">\n<title>Sfat2_2-&gt;fatX2_2</title>\n<g id=\"a_edge24\"><a xlink:title=\"(20, 15) : \">\n<path d=\"M276.3255,-151.1911C283.9036,-148.6827 292.0324,-146.1272 299.6465,-144 365.5546,-125.5867 443.033,-108.9133 491.248,-99.1136\" fill=\"none\" stroke=\"#4a4a4a\"/>\n<polygon fill=\"#4a4a4a\" points=\"491.9684,-102.5388 501.0777,-97.1286 490.5828,-95.6773 491.9684,-102.5388\" stroke=\"#4a4a4a\"/>\n</a>\n</g>\n</g>\n<!-- Smat2_2&#45;&gt;matX2_2 -->\n<g class=\"edge\" id=\"edge1\">\n<title>Smat2_2-&gt;matX2_2</title>\n<g id=\"a_edge1\"><a xlink:title=\"(21, 14) : \">\n<path d=\"M922.5504,-146.5542C907.9869,-136.3739 888.7057,-122.8958 872.6194,-111.6509\" fill=\"none\" stroke=\"#4a4a4a\"/>\n<polygon fill=\"#4a4a4a\" points=\"874.2628,-108.5294 864.0614,-105.6687 870.2522,-114.2666 874.2628,-108.5294\" stroke=\"#4a4a4a\"/>\n</a>\n</g>\n</g>\n</g>\n</svg>"
     },
     "metadata": {},
     "output_type": "display_data"
    }
   ],
   "source": [
    "bn = pview.ped_to_bn_multi(ped, 0.05, 2,[0.8])\n",
    "pview.gnb.showBN(bn, size=100)\n"
   ],
   "metadata": {
    "collapsed": false,
    "pycharm": {
     "name": "#%%\n",
     "is_executing": false
    }
   }
  },
  {
   "cell_type": "code",
   "execution_count": 5,
   "outputs": [
    {
     "data": {
      "text/plain": "(gum::Potential<double>@0x563e80b4ba60) <Sfat2_1:fat> :: 0.5 /<Sfat2_1:mat> :: 0.5",
      "text/html": "<table style=\"border:1px solid black;\">\n<tr style='border:1px solid black;color:black;background-color:#808080'><th colspan='2'><center>Sfat2_1</center></th></tr>\n<tr><th style='border:1px solid black;border-bottom-style: double;color:black;background-color:#BBBBBB'><center>fat</center></th><th style='border:1px solid black;border-bottom-style: double;color:black;background-color:#BBBBBB'><center>mat</center></th></tr>\n<tr><td style='color:black;background-color:#bfbf64;text-align:right;'>0.5000</td><td style='color:black;background-color:#bfbf64;text-align:right;'>0.5000</td></tr>\n</table>"
     },
     "metadata": {},
     "output_type": "execute_result",
     "execution_count": 5
    }
   ],
   "source": [
    "bn.cpt('Sfat2_1')"
   ],
   "metadata": {
    "collapsed": false,
    "pycharm": {
     "name": "#%%\n",
     "is_executing": false
    }
   }
  },
  {
   "cell_type": "code",
   "execution_count": 6,
   "outputs": [
    {
     "data": {
      "text/plain": "(gum::Potential<double>@0x563e80916360) <Sfat2_2:fat|Sfat2_1:fat> :: 0.8 /<Sfat2_2:mat|Sfat2_1:fat> :: 0.2 /<Sfat2_2:fat|Sfat2_1:mat> :: 0.2 /<Sfat2_2:mat|Sfat2_1:mat> :: 0.8",
      "text/html": "<table style=\"border:1px solid black;\">\n<tr><th colspan='1'></th><th colspan='2' style='border:1px solid black;color:black;background-color:#808080;'><center>Sfat2_2</center></th></tr>\n<tr><th style='border:1px solid black;color:black;background-color:#808080'><center>Sfat2_1</center></th><th style='border:1px solid black;border-bottom-style: double;color:black;background-color:#BBBBBB'><center>fat</center></th><th style='border:1px solid black;border-bottom-style: double;color:black;background-color:#BBBBBB'><center>mat</center></th></tr>\n<tr><th style='border:1px solid black;color:black;background-color:#BBBBBB'><center>fat</center></th><td style='color:black;background-color:#98e564;text-align:right;'>0.8000</td><td style='color:black;background-color:#e59864;text-align:right;'>0.2000</td></tr>\n<tr><th style='border:1px solid black;color:black;background-color:#BBBBBB'><center>mat</center></th><td style='color:black;background-color:#e59864;text-align:right;'>0.2000</td><td style='color:black;background-color:#98e564;text-align:right;'>0.8000</td></tr>\n</table>"
     },
     "metadata": {},
     "output_type": "execute_result",
     "execution_count": 6
    }
   ],
   "source": [
    "bn.cpt('Sfat2_2')"
   ],
   "metadata": {
    "collapsed": false,
    "pycharm": {
     "name": "#%%\n",
     "is_executing": false
    }
   }
  },
  {
   "cell_type": "code",
   "execution_count": null,
   "outputs": [],
   "source": [
    "\n"
   ],
   "metadata": {
    "collapsed": false,
    "pycharm": {
     "name": "#%%\n"
    }
   }
  }
 ],
 "metadata": {
  "kernelspec": {
   "display_name": "Python 3",
   "language": "python",
   "name": "python3"
  },
  "language_info": {
   "codemirror_mode": {
    "name": "ipython",
    "version": 2
   },
   "file_extension": ".py",
   "mimetype": "text/x-python",
   "name": "python",
   "nbconvert_exporter": "python",
   "pygments_lexer": "ipython2",
   "version": "2.7.6"
  },
  "pycharm": {
   "stem_cell": {
    "cell_type": "raw",
    "source": [],
    "metadata": {
     "collapsed": false
    }
   }
  }
 },
 "nbformat": 4,
 "nbformat_minor": 0
}